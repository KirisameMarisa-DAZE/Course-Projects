{
 "cells": [
  {
   "cell_type": "markdown",
   "metadata": {
    "slideshow": {
     "slide_type": "slide"
    }
   },
   "source": [
    "# <p style=\"text-align: center\"> Python简介 </p>\n",
    " \n",
    " <p style=\"text-align: center\"> 温灿红 </p>\n",
    "  <p style=\"text-align: center\"> 中国科学技术大学管理学院 </p>"
   ]
  },
  {
   "cell_type": "markdown",
   "metadata": {
    "slideshow": {
     "slide_type": "slide"
    }
   },
   "source": [
    "# 大纲\n",
    "\n",
    "- Jupyter notebook基本使用\n",
    "\n",
    "- 基本数据类型\n",
    "\n",
    "- 数据结构\n",
    "\n",
    "- 控制流\n",
    "\n",
    "- 函数\n",
    "\n",
    "- 模块"
   ]
  },
  {
   "cell_type": "markdown",
   "metadata": {
    "slideshow": {
     "slide_type": "slide"
    }
   },
   "source": [
    "# Jupyter Notebook"
   ]
  },
  {
   "cell_type": "markdown",
   "metadata": {},
   "source": [
    "- Jupyter Notebook 是一种Web应用，也是一个交互式笔记本，它能让用户将说明文本、数学方程、代码和可视化内容全部组合到一个易于共享的文档中，非常便于研究、展示和教学。\n",
    "\n",
    "- 有以下优势：\n",
    "\n",
    "    1. 可用于编写数据分析报告\n",
    "    2. 支持多语言编程\n",
    "    3. 用途广泛（包括数据分析的各项工作）\n",
    "    4. 分享便捷\n",
    "    5. 可远程运行\n",
    "    6. 交互式展现\n",
    "    "
   ]
  },
  {
   "cell_type": "markdown",
   "metadata": {
    "slideshow": {
     "slide_type": "slide"
    }
   },
   "source": [
    "## Jupyter Notebook 的打开\n",
    "\n",
    "- 本地打开\n",
    "\n",
    "  - 直接从Anaconda Navigator中单击进入\n",
    "\n",
    "  - 从Anaconda Prompt 终端进入"
   ]
  },
  {
   "cell_type": "code",
   "execution_count": null,
   "metadata": {
    "tags": []
   },
   "outputs": [],
   "source": [
    "jupyter notebook                  # 直接打开Notebook主界面\n",
    "jupyter notebook notebook.ipynb   # 打开特定的Notebook 文件"
   ]
  },
  {
   "cell_type": "markdown",
   "metadata": {
    "execution": {
     "iopub.execute_input": "2024-05-16T08:17:59.402657Z",
     "iopub.status.busy": "2024-05-16T08:17:59.401807Z",
     "iopub.status.idle": "2024-05-16T08:17:59.407433Z",
     "shell.execute_reply": "2024-05-16T08:17:59.406441Z",
     "shell.execute_reply.started": "2024-05-16T08:17:59.402629Z"
    },
    "tags": []
   },
   "source": [
    "\n",
    "- 在线打开\n",
    "\n",
    "    - [Google colab](https://colab.research.google.com/)\n",
    "    \n",
    "    - [Kaggle Notebooks](https://www.kaggle.com/codehttps://www.kaggle.com/code)"
   ]
  },
  {
   "cell_type": "markdown",
   "metadata": {
    "slideshow": {
     "slide_type": "slide"
    }
   },
   "source": [
    "## Jupyter Notebook 的界面"
   ]
  },
  {
   "cell_type": "markdown",
   "metadata": {},
   "source": [
    "![jupyter](jupyter.png)"
   ]
  },
  {
   "cell_type": "markdown",
   "metadata": {
    "slideshow": {
     "slide_type": "slide"
    }
   },
   "source": [
    "## Notebook编辑器的用户界面"
   ]
  },
  {
   "cell_type": "markdown",
   "metadata": {},
   "source": [
    "![jupyter](notebook.png)"
   ]
  },
  {
   "cell_type": "markdown",
   "metadata": {
    "slideshow": {
     "slide_type": "slide"
    }
   },
   "source": [
    "## Jupyter Notebook的基本使用（一）\n",
    "\n",
    "1.运行代码：点击“运行”或者使用快捷键【Shift+Enter】"
   ]
  },
  {
   "cell_type": "code",
   "execution_count": 2,
   "metadata": {
    "execution": {
     "iopub.execute_input": "2024-05-17T03:10:19.962534Z",
     "iopub.status.busy": "2024-05-17T03:10:19.961859Z",
     "iopub.status.idle": "2024-05-17T03:10:27.325364Z",
     "shell.execute_reply": "2024-05-17T03:10:27.324370Z",
     "shell.execute_reply.started": "2024-05-17T03:10:19.962503Z"
    },
    "tags": []
   },
   "outputs": [
    {
     "name": "stdout",
     "output_type": "stream",
     "text": [
      "Hello World!\n",
      "1 + 2 = 3\n"
     ]
    },
    {
     "name": "stdin",
     "output_type": "stream",
     "text": [
      "请输入你的名字： Canhong Wen\n"
     ]
    },
    {
     "name": "stdout",
     "output_type": "stream",
     "text": [
      "你好，  Canhong Wen\n"
     ]
    }
   ],
   "source": [
    "print(\"Hello World!\")\n",
    "\n",
    "print(1, \"+\", 2, \"=\", 1 + 2)\n",
    "\n",
    "name = input(\"请输入你的名字：\")\n",
    "print(\"你好， \", name)"
   ]
  },
  {
   "cell_type": "markdown",
   "metadata": {},
   "source": [
    "2.停止运行：在命令模式下连续按下两次【I】键"
   ]
  },
  {
   "cell_type": "code",
   "execution_count": 3,
   "metadata": {
    "execution": {
     "iopub.execute_input": "2024-05-17T03:10:30.248490Z",
     "iopub.status.busy": "2024-05-17T03:10:30.247833Z",
     "iopub.status.idle": "2024-05-17T03:10:40.263034Z",
     "shell.execute_reply": "2024-05-17T03:10:40.262227Z",
     "shell.execute_reply.started": "2024-05-17T03:10:30.248435Z"
    },
    "slideshow": {
     "slide_type": "skip"
    },
    "tags": []
   },
   "outputs": [],
   "source": [
    "import time\n",
    "\n",
    "time.sleep(10)"
   ]
  },
  {
   "cell_type": "markdown",
   "metadata": {},
   "source": [
    "![](stop.png)"
   ]
  },
  {
   "cell_type": "markdown",
   "metadata": {
    "slideshow": {
     "slide_type": "slide"
    }
   },
   "source": [
    "## Jupyter Notebook的基本使用（二）\n",
    "\n",
    "3.结果输出：点击“运行”后输出到命令行\n",
    "\n",
    " - 默认是只输出最后一行命令的结果，如果需要输出所有的结果，需要进行适当的修改。\n"
   ]
  },
  {
   "cell_type": "code",
   "execution_count": 4,
   "metadata": {
    "execution": {
     "iopub.execute_input": "2024-05-17T03:10:42.246107Z",
     "iopub.status.busy": "2024-05-17T03:10:42.245548Z",
     "iopub.status.idle": "2024-05-17T03:10:42.250108Z",
     "shell.execute_reply": "2024-05-17T03:10:42.249218Z",
     "shell.execute_reply.started": "2024-05-17T03:10:42.246073Z"
    },
    "tags": []
   },
   "outputs": [],
   "source": [
    "from IPython.core.interactiveshell import InteractiveShell\n",
    "\n",
    "InteractiveShell.ast_node_interactivity = \"all\""
   ]
  },
  {
   "cell_type": "markdown",
   "metadata": {},
   "source": [
    "4.文档存储和分享\n",
    "\n",
    "  - Notebook有自动存储的功能，默认以.ipynb格式存储。\n",
    "  \n",
    "  - 其他格式可通过菜单栏中的【File】->【Download】命令，然后将文档存储为Python、HTML、Markdown、Latex和PDF等格式。\n"
   ]
  },
  {
   "cell_type": "markdown",
   "metadata": {
    "slideshow": {
     "slide_type": "slide"
    }
   },
   "source": [
    "## Jupyter Notebook的基本使用（三）\n",
    "\n",
    "- Python内置`open()`函数可用于读写数据，基本流程是：打开文件 -> 读取文件内容 -> 关闭文件。\n",
    "\n",
    "- 基本语法是\n",
    "    `f = open(<文件名>, <打开模式>)`\n",
    "    \n",
    "- 七种基本的打开模式\n",
    "\n",
    "|打开模式| 说明|\n",
    "|:--:|:--|\n",
    "|'r'|只读模式（默认模式）,如果文件不存在则报错，如果文件存在则正常读取|\n",
    "|'w'|覆盖写模式，如果文件不存在则新建文件并写入；如果文件存在则清空文件内容写入|\n",
    "|'x'|创建写模式，如果文件存在则报错，如果文件不存在则新建文件并写入内容，比'w'模式更安全|\n",
    "|'a'|追加写模式，如果文件不存在则新建文件并写入，如果文件存在则在文件的最后追加写入|\n",
    "|'b'|二进制文件模式，如rb,wb,ab是指以bytes类型操作数据|\n",
    "|'t'|文本文件模式|\n",
    "|'+'|与r/w/x/a一同使用，在原有功能的基础上增加同时读写功能|\n",
    "\n",
    "  "
   ]
  },
  {
   "cell_type": "code",
   "execution_count": 5,
   "metadata": {
    "execution": {
     "iopub.execute_input": "2024-05-17T03:10:46.431791Z",
     "iopub.status.busy": "2024-05-17T03:10:46.431318Z",
     "iopub.status.idle": "2024-05-17T03:10:46.440538Z",
     "shell.execute_reply": "2024-05-17T03:10:46.439762Z",
     "shell.execute_reply.started": "2024-05-17T03:10:46.431764Z"
    },
    "slideshow": {
     "slide_type": "slide"
    },
    "tags": []
   },
   "outputs": [
    {
     "data": {
      "text/plain": [
       "22"
      ]
     },
     "execution_count": 5,
     "metadata": {},
     "output_type": "execute_result"
    }
   ],
   "source": [
    "f = open(\"test.txt\", \"w\", encoding=\"utf-8\")\n",
    "f.write(\"Hello World!\\n实用统计软件课程\\n\")\n",
    "f.close()"
   ]
  },
  {
   "cell_type": "markdown",
   "metadata": {},
   "source": [
    "![](hello.png)"
   ]
  },
  {
   "cell_type": "markdown",
   "metadata": {
    "slideshow": {
     "slide_type": "slide"
    }
   },
   "source": [
    "## Jupyter Notebook的基本使用（四）\n",
    "\n",
    "- 一般的数据保存在.txt, .csv, .xlsx中，pandas库中提供了一些可以将表格型数据读取为DataFrame对象的函数。\n",
    "\n",
    "|函数|说明|\n",
    "|--|--|\n",
    "|read_csv|从文件、URL、文件型对象中加载带分隔符的数据。默认分隔符为逗号|\n",
    "|read_table|从文件、URL、文件型对象中加载带分隔符的数据。默认分隔符为制表符(\"\\t\")|\n",
    "|read_fwf|读取定宽列格式的数据（也就是说，没有分隔符）|\n",
    "|read_clipboard|读取剪贴板中的数据，可以看作是read_table的剪贴板版本。在将网页转换成表格时很有用|\n",
    "\n",
    "- 如果是当地文件，首先要查看当前的工作目录并修改至适当的路径下"
   ]
  },
  {
   "cell_type": "code",
   "execution_count": 8,
   "metadata": {
    "execution": {
     "iopub.execute_input": "2024-05-17T03:11:19.924748Z",
     "iopub.status.busy": "2024-05-17T03:11:19.924297Z",
     "iopub.status.idle": "2024-05-17T03:11:19.929833Z",
     "shell.execute_reply": "2024-05-17T03:11:19.929165Z",
     "shell.execute_reply.started": "2024-05-17T03:11:19.924717Z"
    },
    "tags": []
   },
   "outputs": [
    {
     "data": {
      "text/plain": [
       "'/home/profwen'"
      ]
     },
     "execution_count": 8,
     "metadata": {},
     "output_type": "execute_result"
    }
   ],
   "source": [
    "import os\n",
    "\n",
    "os.getcwd()  # 查看当前的工作目录\n",
    "\n",
    "#os.chdir(\"dir\")  # 修改工作目录"
   ]
  },
  {
   "cell_type": "code",
   "execution_count": 9,
   "metadata": {
    "execution": {
     "iopub.execute_input": "2024-05-17T03:11:24.947081Z",
     "iopub.status.busy": "2024-05-17T03:11:24.946434Z",
     "iopub.status.idle": "2024-05-17T03:11:25.053663Z",
     "shell.execute_reply": "2024-05-17T03:11:25.052662Z",
     "shell.execute_reply.started": "2024-05-17T03:11:24.947043Z"
    },
    "slideshow": {
     "slide_type": "slide"
    },
    "tags": []
   },
   "outputs": [
    {
     "data": {
      "text/html": [
       "<div>\n",
       "<style scoped>\n",
       "    .dataframe tbody tr th:only-of-type {\n",
       "        vertical-align: middle;\n",
       "    }\n",
       "\n",
       "    .dataframe tbody tr th {\n",
       "        vertical-align: top;\n",
       "    }\n",
       "\n",
       "    .dataframe thead th {\n",
       "        text-align: right;\n",
       "    }\n",
       "</style>\n",
       "<table border=\"1\" class=\"dataframe\">\n",
       "  <thead>\n",
       "    <tr style=\"text-align: right;\">\n",
       "      <th></th>\n",
       "      <th>团购名</th>\n",
       "      <th>店名</th>\n",
       "      <th>团购活动ID</th>\n",
       "      <th>团购介绍</th>\n",
       "      <th>购买人数</th>\n",
       "      <th>团购评价</th>\n",
       "      <th>评价人数</th>\n",
       "      <th>到期时间</th>\n",
       "      <th>团购价</th>\n",
       "      <th>市场价</th>\n",
       "      <th>地址</th>\n",
       "      <th>团购内容</th>\n",
       "      <th>备注</th>\n",
       "      <th>购买须知</th>\n",
       "    </tr>\n",
       "  </thead>\n",
       "  <tbody>\n",
       "    <tr>\n",
       "      <th>0</th>\n",
       "      <td>壹分之贰豪华生日派对套餐</td>\n",
       "      <td>壹分之贰聚会吧桌游轰趴馆(旗舰店)</td>\n",
       "      <td>38744470</td>\n",
       "      <td>仅售880元，价值7342元豪华生日派对聚会桌游轰趴夜场10小时（通宵包场）！免费WiFi，...</td>\n",
       "      <td>0</td>\n",
       "      <td>暂无评价</td>\n",
       "      <td>暂无评价</td>\n",
       "      <td>2018-08-10</td>\n",
       "      <td>NaN</td>\n",
       "      <td>NaN</td>\n",
       "      <td>【西安市雁塔区小寨东路11号壹又贰分之壹B楼1003】</td>\n",
       "      <td>【内容: 豪华主题场地, 规格: 10小时, 价格: 600元】【内容: 轰趴场地布置, 规...</td>\n",
       "      <td>随便退</td>\n",
       "      <td>【有效期2017年06月07日至2018年08月10日】\\n【可用时间周末法定节假日通用08...</td>\n",
       "    </tr>\n",
       "    <tr>\n",
       "      <th>1</th>\n",
       "      <td>壹分之贰豪华棋牌包间</td>\n",
       "      <td>壹分之贰聚会吧桌游轰趴馆(旗舰店)</td>\n",
       "      <td>38632123</td>\n",
       "      <td>仅售98元，价值240元豪华棋牌包间4小时套餐（4人）1份！免费WiFi！</td>\n",
       "      <td>0</td>\n",
       "      <td>暂无评价</td>\n",
       "      <td>暂无评价</td>\n",
       "      <td>2018-08-10</td>\n",
       "      <td>NaN</td>\n",
       "      <td>NaN</td>\n",
       "      <td>【西安市雁塔区小寨东路11号壹又贰分之壹B楼1003】</td>\n",
       "      <td>【内容: 豪华棋牌包间4小时套餐（4人）, 规格: 1份, 价格: 240元】</td>\n",
       "      <td>随便退</td>\n",
       "      <td>【有效期2017年05月26日至2018年08月10日】\\n【可用时间周末法定节假日通用08...</td>\n",
       "    </tr>\n",
       "    <tr>\n",
       "      <th>2</th>\n",
       "      <td>壹分之贰豪华生日派对套餐</td>\n",
       "      <td>壹分之贰聚会吧桌游轰趴馆(旗舰店)</td>\n",
       "      <td>38744514</td>\n",
       "      <td>仅售480元，价值3685元豪华生日派对聚会桌游轰趴5小时（包场）！免费WiFi，需预约！</td>\n",
       "      <td>0</td>\n",
       "      <td>暂无评价</td>\n",
       "      <td>暂无评价</td>\n",
       "      <td>2018-08-10</td>\n",
       "      <td>NaN</td>\n",
       "      <td>NaN</td>\n",
       "      <td>【西安市雁塔区小寨东路11号壹又贰分之壹B楼1003】</td>\n",
       "      <td>【内容: 豪华主题场地, 规格: 5小时, 价格: 300元】【内容: 轰趴场地布置, 规格...</td>\n",
       "      <td>随便退</td>\n",
       "      <td>【有效期2017年06月07日至2018年08月10日】\\n【可用时间周末法定节假日通用08...</td>\n",
       "    </tr>\n",
       "    <tr>\n",
       "      <th>3</th>\n",
       "      <td>396元1-15人服务</td>\n",
       "      <td>壹分之贰聚会吧桌游轰趴馆(旗舰店)</td>\n",
       "      <td>13377118</td>\n",
       "      <td>仅售396元，价值2575元台球优享套餐！免费WiFi，需预约！</td>\n",
       "      <td>8</td>\n",
       "      <td>5</td>\n",
       "      <td>3</td>\n",
       "      <td>2018-09-04</td>\n",
       "      <td>396.0</td>\n",
       "      <td>2575.0</td>\n",
       "      <td>【西安市雁塔区小寨东路11号壹又贰分之壹B楼1003】</td>\n",
       "      <td>【内容: 复式结构场地, 规格: 1次, 价格: 200元】【内容: 场地布置, 规格: 1...</td>\n",
       "      <td>随便退</td>\n",
       "      <td>【有效期2016年05月06日至2018年09月04日】\\n【可用时间周末法定节假日通用24...</td>\n",
       "    </tr>\n",
       "    <tr>\n",
       "      <th>4</th>\n",
       "      <td>六婆串串香火锅100代金券</td>\n",
       "      <td>六婆串串香火锅</td>\n",
       "      <td>38767590</td>\n",
       "      <td>仅售85元，价值100元代金券！免费停车，免费WiFi！</td>\n",
       "      <td>6</td>\n",
       "      <td>暂无评价</td>\n",
       "      <td>暂无评价</td>\n",
       "      <td>2018-08-30</td>\n",
       "      <td>85.0</td>\n",
       "      <td>100.0</td>\n",
       "      <td>【西安市雁塔区长丰园小区12号楼7号商铺】【西安市周至县中心街隆发云塔广场C016号】</td>\n",
       "      <td>【内容: 代金券, 规格: 1张, 价格: 100元】</td>\n",
       "      <td>随便退</td>\n",
       "      <td>【有效期2017年06月09日至2018年08月30日】\\n【可用时间周末法定节假日通用09...</td>\n",
       "    </tr>\n",
       "  </tbody>\n",
       "</table>\n",
       "</div>"
      ],
      "text/plain": [
       "             团购名                 店名    团购活动ID   \n",
       "0   壹分之贰豪华生日派对套餐  壹分之贰聚会吧桌游轰趴馆(旗舰店)  38744470  \\\n",
       "1     壹分之贰豪华棋牌包间  壹分之贰聚会吧桌游轰趴馆(旗舰店)  38632123   \n",
       "2   壹分之贰豪华生日派对套餐  壹分之贰聚会吧桌游轰趴馆(旗舰店)  38744514   \n",
       "3    396元1-15人服务  壹分之贰聚会吧桌游轰趴馆(旗舰店)  13377118   \n",
       "4  六婆串串香火锅100代金券            六婆串串香火锅  38767590   \n",
       "\n",
       "                                                团购介绍  购买人数  团购评价  评价人数   \n",
       "0  仅售880元，价值7342元豪华生日派对聚会桌游轰趴夜场10小时（通宵包场）！免费WiFi，...     0  暂无评价  暂无评价  \\\n",
       "1              仅售98元，价值240元豪华棋牌包间4小时套餐（4人）1份！免费WiFi！     0  暂无评价  暂无评价   \n",
       "2      仅售480元，价值3685元豪华生日派对聚会桌游轰趴5小时（包场）！免费WiFi，需预约！     0  暂无评价  暂无评价   \n",
       "3                   仅售396元，价值2575元台球优享套餐！免费WiFi，需预约！     8     5     3   \n",
       "4                       仅售85元，价值100元代金券！免费停车，免费WiFi！     6  暂无评价  暂无评价   \n",
       "\n",
       "         到期时间    团购价     市场价                                           地址   \n",
       "0  2018-08-10    NaN     NaN                  【西安市雁塔区小寨东路11号壹又贰分之壹B楼1003】  \\\n",
       "1  2018-08-10    NaN     NaN                  【西安市雁塔区小寨东路11号壹又贰分之壹B楼1003】   \n",
       "2  2018-08-10    NaN     NaN                  【西安市雁塔区小寨东路11号壹又贰分之壹B楼1003】   \n",
       "3  2018-09-04  396.0  2575.0                  【西安市雁塔区小寨东路11号壹又贰分之壹B楼1003】   \n",
       "4  2018-08-30   85.0   100.0  【西安市雁塔区长丰园小区12号楼7号商铺】【西安市周至县中心街隆发云塔广场C016号】   \n",
       "\n",
       "                                                团购内容   备注   \n",
       "0  【内容: 豪华主题场地, 规格: 10小时, 价格: 600元】【内容: 轰趴场地布置, 规...  随便退  \\\n",
       "1            【内容: 豪华棋牌包间4小时套餐（4人）, 规格: 1份, 价格: 240元】  随便退   \n",
       "2  【内容: 豪华主题场地, 规格: 5小时, 价格: 300元】【内容: 轰趴场地布置, 规格...  随便退   \n",
       "3  【内容: 复式结构场地, 规格: 1次, 价格: 200元】【内容: 场地布置, 规格: 1...  随便退   \n",
       "4                        【内容: 代金券, 规格: 1张, 价格: 100元】  随便退   \n",
       "\n",
       "                                                购买须知  \n",
       "0  【有效期2017年06月07日至2018年08月10日】\\n【可用时间周末法定节假日通用08...  \n",
       "1  【有效期2017年05月26日至2018年08月10日】\\n【可用时间周末法定节假日通用08...  \n",
       "2  【有效期2017年06月07日至2018年08月10日】\\n【可用时间周末法定节假日通用08...  \n",
       "3  【有效期2016年05月06日至2018年09月04日】\\n【可用时间周末法定节假日通用24...  \n",
       "4  【有效期2017年06月09日至2018年08月30日】\\n【可用时间周末法定节假日通用09...  "
      ]
     },
     "execution_count": 9,
     "metadata": {},
     "output_type": "execute_result"
    }
   ],
   "source": [
    "import pandas as pd\n",
    "\n",
    "coupon = pd.read_csv(\"coupon_nm.csv\", encoding=\"gbk\")\n",
    "coupon.head()"
   ]
  },
  {
   "cell_type": "markdown",
   "metadata": {
    "slideshow": {
     "slide_type": "slide"
    }
   },
   "source": [
    "# 基本数据类型"
   ]
  },
  {
   "cell_type": "markdown",
   "metadata": {
    "slideshow": {
     "slide_type": "slide"
    }
   },
   "source": [
    "## 基本数据类型\n",
    "\n",
    "1. 整型（int）\n",
    "2. 浮点型（float）\n",
    "3. 布尔型（bool）\n",
    "4. 复数（complex）\n",
    "5. 字符串(str)\n",
    "6. 时间类型(pandas模块)"
   ]
  },
  {
   "cell_type": "markdown",
   "metadata": {
    "slideshow": {
     "slide_type": "slide"
    }
   },
   "source": [
    "## 查看和转换数据类型\n",
    "\n",
    "- 查看数据类型： \n",
    "    - type 查看单个类型的数据\n",
    "    - dtypes 查看多个类型的所有数据类型\n",
    "\n",
    "- 转换数据类型\n",
    "\n",
    "    - int()\n",
    "    - float()\n",
    "    - bool()\n",
    "    - str()"
   ]
  },
  {
   "cell_type": "markdown",
   "metadata": {
    "slideshow": {
     "slide_type": "slide"
    }
   },
   "source": [
    "## 例子（一）"
   ]
  },
  {
   "cell_type": "code",
   "execution_count": 10,
   "metadata": {
    "execution": {
     "iopub.execute_input": "2024-05-17T03:11:27.685097Z",
     "iopub.status.busy": "2024-05-17T03:11:27.684549Z",
     "iopub.status.idle": "2024-05-17T03:11:27.700482Z",
     "shell.execute_reply": "2024-05-17T03:11:27.699523Z",
     "shell.execute_reply.started": "2024-05-17T03:11:27.685066Z"
    },
    "slideshow": {
     "slide_type": "-"
    },
    "tags": []
   },
   "outputs": [
    {
     "data": {
      "text/plain": [
       "int"
      ]
     },
     "execution_count": 10,
     "metadata": {},
     "output_type": "execute_result"
    },
    {
     "data": {
      "text/plain": [
       "float"
      ]
     },
     "execution_count": 10,
     "metadata": {},
     "output_type": "execute_result"
    },
    {
     "data": {
      "text/plain": [
       "bool"
      ]
     },
     "execution_count": 10,
     "metadata": {},
     "output_type": "execute_result"
    },
    {
     "name": "stdout",
     "output_type": "stream",
     "text": [
      "False\n",
      "复数 1j 的乘法： (-1+0j) . 实部是 0.0  虚部是 1.0\n"
     ]
    },
    {
     "data": {
      "text/plain": [
       "'实用统计软件'"
      ]
     },
     "execution_count": 10,
     "metadata": {},
     "output_type": "execute_result"
    }
   ],
   "source": [
    "type(200)\n",
    "type(1.0)\n",
    "type(True)\n",
    "print(3 * 0.15 == 0.45)\n",
    "print(\"复数\", 0 + 1j, \"的乘法：\", (0 + 1j) * (0 + 1j), \". 实部是\", (0 + 1j).real, \" 虚部是\", (0 + 1j).imag)\n",
    "s = \"实用\" + \"统计软件\"\n",
    "s"
   ]
  },
  {
   "cell_type": "markdown",
   "metadata": {
    "slideshow": {
     "slide_type": "slide"
    }
   },
   "source": [
    "## 例子（二）"
   ]
  },
  {
   "cell_type": "code",
   "execution_count": 11,
   "metadata": {
    "execution": {
     "iopub.execute_input": "2024-05-17T03:11:30.418730Z",
     "iopub.status.busy": "2024-05-17T03:11:30.418221Z",
     "iopub.status.idle": "2024-05-17T03:11:30.458721Z",
     "shell.execute_reply": "2024-05-17T03:11:30.457767Z",
     "shell.execute_reply.started": "2024-05-17T03:11:30.418695Z"
    },
    "tags": []
   },
   "outputs": [
    {
     "data": {
      "text/plain": [
       "-2"
      ]
     },
     "execution_count": 11,
     "metadata": {},
     "output_type": "execute_result"
    },
    {
     "data": {
      "text/plain": [
       "2.0"
      ]
     },
     "execution_count": 11,
     "metadata": {},
     "output_type": "execute_result"
    },
    {
     "data": {
      "text/plain": [
       "123"
      ]
     },
     "execution_count": 11,
     "metadata": {},
     "output_type": "execute_result"
    },
    {
     "data": {
      "text/plain": [
       "True"
      ]
     },
     "execution_count": 11,
     "metadata": {},
     "output_type": "execute_result"
    },
    {
     "data": {
      "text/plain": [
       "False"
      ]
     },
     "execution_count": 11,
     "metadata": {},
     "output_type": "execute_result"
    },
    {
     "data": {
      "text/plain": [
       "'234'"
      ]
     },
     "execution_count": 11,
     "metadata": {},
     "output_type": "execute_result"
    },
    {
     "ename": "ValueError",
     "evalue": "invalid literal for int() with base 10: 'a'",
     "output_type": "error",
     "traceback": [
      "\u001b[0;31m---------------------------------------------------------------------------\u001b[0m",
      "\u001b[0;31mValueError\u001b[0m                                Traceback (most recent call last)",
      "Cell \u001b[0;32mIn[11], line 7\u001b[0m\n\u001b[1;32m      5\u001b[0m \u001b[38;5;28mbool\u001b[39m(\u001b[38;5;241m0\u001b[39m)\n\u001b[1;32m      6\u001b[0m \u001b[38;5;28mstr\u001b[39m(\u001b[38;5;241m234\u001b[39m)\n\u001b[0;32m----> 7\u001b[0m \u001b[38;5;28;43mint\u001b[39;49m\u001b[43m(\u001b[49m\u001b[38;5;124;43m\"\u001b[39;49m\u001b[38;5;124;43ma\u001b[39;49m\u001b[38;5;124;43m\"\u001b[39;49m\u001b[43m)\u001b[49m\n",
      "\u001b[0;31mValueError\u001b[0m: invalid literal for int() with base 10: 'a'"
     ]
    }
   ],
   "source": [
    "int(-2.8)\n",
    "float(2)\n",
    "int(\"123\")\n",
    "bool(-2)\n",
    "bool(0)\n",
    "str(234)\n",
    "int(\"a\")"
   ]
  },
  {
   "cell_type": "markdown",
   "metadata": {
    "slideshow": {
     "slide_type": "slide"
    }
   },
   "source": [
    "## 算子和表达式\n",
    "\n",
    "- 算子包括\n",
    "\n",
    "    - 四则运算：`+`, `-`, `*`, `/`, `**`, `//`, `%`\n",
    "\n",
    "    - 逻辑运算：`==`, `>`, `<`, `<=`, `>=`,`!=`, `and`, `or`, `not`\n",
    "    \n",
    "    - 字符串运算： `+`, `*`, `in`, `len`, 单个索引或切片索引,`isX`(如`isalpha()`, `isalnum()`, `isdecimal()`, `isspace()`, `istitle()`\n",
    "    \n",
    "    - 取下标等等"
   ]
  },
  {
   "cell_type": "markdown",
   "metadata": {
    "slideshow": {
     "slide_type": "slide"
    }
   },
   "source": [
    "## 四则运算和逻辑运算"
   ]
  },
  {
   "cell_type": "code",
   "execution_count": 12,
   "metadata": {
    "execution": {
     "iopub.execute_input": "2024-05-17T03:11:32.668859Z",
     "iopub.status.busy": "2024-05-17T03:11:32.668095Z",
     "iopub.status.idle": "2024-05-17T03:11:32.675601Z",
     "shell.execute_reply": "2024-05-17T03:11:32.674539Z",
     "shell.execute_reply.started": "2024-05-17T03:11:32.668817Z"
    },
    "tags": []
   },
   "outputs": [
    {
     "data": {
      "text/plain": [
       "3"
      ]
     },
     "execution_count": 12,
     "metadata": {},
     "output_type": "execute_result"
    }
   ],
   "source": [
    "1 + 2"
   ]
  },
  {
   "cell_type": "code",
   "execution_count": 13,
   "metadata": {
    "execution": {
     "iopub.execute_input": "2024-05-17T03:11:33.000230Z",
     "iopub.status.busy": "2024-05-17T03:11:32.999731Z",
     "iopub.status.idle": "2024-05-17T03:11:33.006272Z",
     "shell.execute_reply": "2024-05-17T03:11:33.005568Z",
     "shell.execute_reply.started": "2024-05-17T03:11:33.000201Z"
    },
    "tags": []
   },
   "outputs": [
    {
     "data": {
      "text/plain": [
       "8"
      ]
     },
     "execution_count": 13,
     "metadata": {},
     "output_type": "execute_result"
    }
   ],
   "source": [
    "2**3"
   ]
  },
  {
   "cell_type": "code",
   "execution_count": 14,
   "metadata": {
    "execution": {
     "iopub.execute_input": "2024-05-17T03:11:33.223501Z",
     "iopub.status.busy": "2024-05-17T03:11:33.223010Z",
     "iopub.status.idle": "2024-05-17T03:11:33.229658Z",
     "shell.execute_reply": "2024-05-17T03:11:33.228805Z",
     "shell.execute_reply.started": "2024-05-17T03:11:33.223472Z"
    },
    "tags": []
   },
   "outputs": [
    {
     "data": {
      "text/plain": [
       "True"
      ]
     },
     "execution_count": 14,
     "metadata": {},
     "output_type": "execute_result"
    }
   ],
   "source": [
    "1 > 2 or 1 != 2"
   ]
  },
  {
   "cell_type": "code",
   "execution_count": 15,
   "metadata": {
    "execution": {
     "iopub.execute_input": "2024-05-17T03:11:33.422960Z",
     "iopub.status.busy": "2024-05-17T03:11:33.422473Z",
     "iopub.status.idle": "2024-05-17T03:11:33.428718Z",
     "shell.execute_reply": "2024-05-17T03:11:33.427885Z",
     "shell.execute_reply.started": "2024-05-17T03:11:33.422932Z"
    },
    "tags": []
   },
   "outputs": [
    {
     "data": {
      "text/plain": [
       "True"
      ]
     },
     "execution_count": 15,
     "metadata": {},
     "output_type": "execute_result"
    }
   ],
   "source": [
    "not False"
   ]
  },
  {
   "cell_type": "code",
   "execution_count": 16,
   "metadata": {
    "execution": {
     "iopub.execute_input": "2024-05-17T03:11:33.608048Z",
     "iopub.status.busy": "2024-05-17T03:11:33.607206Z",
     "iopub.status.idle": "2024-05-17T03:11:33.634540Z",
     "shell.execute_reply": "2024-05-17T03:11:33.633803Z",
     "shell.execute_reply.started": "2024-05-17T03:11:33.608018Z"
    },
    "tags": []
   },
   "outputs": [
    {
     "ename": "TypeError",
     "evalue": "'>' not supported between instances of 'complex' and 'int'",
     "output_type": "error",
     "traceback": [
      "\u001b[0;31m---------------------------------------------------------------------------\u001b[0m",
      "\u001b[0;31mTypeError\u001b[0m                                 Traceback (most recent call last)",
      "Cell \u001b[0;32mIn[16], line 1\u001b[0m\n\u001b[0;32m----> 1\u001b[0m \u001b[43m(\u001b[49m\u001b[38;5;241;43m0\u001b[39;49m\u001b[43m \u001b[49m\u001b[38;5;241;43m+\u001b[39;49m\u001b[43m \u001b[49m\u001b[38;5;241;43m1\u001b[39;49m\u001b[43mj\u001b[49m\u001b[43m)\u001b[49m\u001b[43m \u001b[49m\u001b[38;5;241;43m>\u001b[39;49m\u001b[43m \u001b[49m\u001b[38;5;241;43m1\u001b[39;49m\n",
      "\u001b[0;31mTypeError\u001b[0m: '>' not supported between instances of 'complex' and 'int'"
     ]
    }
   ],
   "source": [
    "(0 + 1j) > 1"
   ]
  },
  {
   "cell_type": "markdown",
   "metadata": {
    "slideshow": {
     "slide_type": "slide"
    }
   },
   "source": [
    "## 字符串的基本运算(一)"
   ]
  },
  {
   "cell_type": "code",
   "execution_count": 17,
   "metadata": {
    "execution": {
     "iopub.execute_input": "2024-05-17T03:11:34.182293Z",
     "iopub.status.busy": "2024-05-17T03:11:34.181372Z",
     "iopub.status.idle": "2024-05-17T03:11:34.192056Z",
     "shell.execute_reply": "2024-05-17T03:11:34.190922Z",
     "shell.execute_reply.started": "2024-05-17T03:11:34.182215Z"
    },
    "tags": []
   },
   "outputs": [
    {
     "data": {
      "text/plain": [
       "'统计软件Python'"
      ]
     },
     "execution_count": 17,
     "metadata": {},
     "output_type": "execute_result"
    }
   ],
   "source": [
    "\"统计软件\" + \"Python\""
   ]
  },
  {
   "cell_type": "code",
   "execution_count": 18,
   "metadata": {
    "execution": {
     "iopub.execute_input": "2024-05-17T03:11:34.381765Z",
     "iopub.status.busy": "2024-05-17T03:11:34.380782Z",
     "iopub.status.idle": "2024-05-17T03:11:34.421655Z",
     "shell.execute_reply": "2024-05-17T03:11:34.420854Z",
     "shell.execute_reply.started": "2024-05-17T03:11:34.381712Z"
    },
    "tags": []
   },
   "outputs": [
    {
     "ename": "TypeError",
     "evalue": "can only concatenate str (not \"int\") to str",
     "output_type": "error",
     "traceback": [
      "\u001b[0;31m---------------------------------------------------------------------------\u001b[0m",
      "\u001b[0;31mTypeError\u001b[0m                                 Traceback (most recent call last)",
      "Cell \u001b[0;32mIn[18], line 1\u001b[0m\n\u001b[0;32m----> 1\u001b[0m \u001b[38;5;124;43m\"\u001b[39;49m\u001b[38;5;124;43m统计软件\u001b[39;49m\u001b[38;5;124;43m\"\u001b[39;49m\u001b[43m \u001b[49m\u001b[38;5;241;43m+\u001b[39;49m\u001b[43m \u001b[49m\u001b[38;5;124;43m\"\u001b[39;49m\u001b[38;5;124;43mPython\u001b[39;49m\u001b[38;5;124;43m\"\u001b[39;49m\u001b[43m \u001b[49m\u001b[38;5;241;43m+\u001b[39;49m\u001b[43m \u001b[49m\u001b[38;5;241;43m2021\u001b[39;49m\n",
      "\u001b[0;31mTypeError\u001b[0m: can only concatenate str (not \"int\") to str"
     ]
    }
   ],
   "source": [
    "\"统计软件\" + \"Python\" + 2021"
   ]
  },
  {
   "cell_type": "code",
   "execution_count": 19,
   "metadata": {
    "execution": {
     "iopub.execute_input": "2024-05-17T03:11:34.618525Z",
     "iopub.status.busy": "2024-05-17T03:11:34.618087Z",
     "iopub.status.idle": "2024-05-17T03:11:34.623872Z",
     "shell.execute_reply": "2024-05-17T03:11:34.623218Z",
     "shell.execute_reply.started": "2024-05-17T03:11:34.618495Z"
    },
    "tags": []
   },
   "outputs": [
    {
     "data": {
      "text/plain": [
       "'统计软件Python2021'"
      ]
     },
     "execution_count": 19,
     "metadata": {},
     "output_type": "execute_result"
    }
   ],
   "source": [
    "\"统计软件\" + \"Python\" + str(2021)"
   ]
  },
  {
   "cell_type": "code",
   "execution_count": 20,
   "metadata": {
    "execution": {
     "iopub.execute_input": "2024-05-17T03:11:34.760199Z",
     "iopub.status.busy": "2024-05-17T03:11:34.759533Z",
     "iopub.status.idle": "2024-05-17T03:11:34.765557Z",
     "shell.execute_reply": "2024-05-17T03:11:34.764678Z",
     "shell.execute_reply.started": "2024-05-17T03:11:34.760161Z"
    },
    "tags": []
   },
   "outputs": [
    {
     "data": {
      "text/plain": [
       "4"
      ]
     },
     "execution_count": 20,
     "metadata": {},
     "output_type": "execute_result"
    }
   ],
   "source": [
    "len(\"统计软件\")"
   ]
  },
  {
   "cell_type": "markdown",
   "metadata": {
    "slideshow": {
     "slide_type": "slide"
    }
   },
   "source": [
    "## 字符串的基本运算(二)"
   ]
  },
  {
   "cell_type": "code",
   "execution_count": 21,
   "metadata": {
    "execution": {
     "iopub.execute_input": "2024-05-17T03:11:35.094006Z",
     "iopub.status.busy": "2024-05-17T03:11:35.093529Z",
     "iopub.status.idle": "2024-05-17T03:11:35.098939Z",
     "shell.execute_reply": "2024-05-17T03:11:35.098279Z",
     "shell.execute_reply.started": "2024-05-17T03:11:35.093973Z"
    },
    "tags": []
   },
   "outputs": [
    {
     "data": {
      "text/plain": [
       "'统计软件统计软件统计软件统计软件统计软件'"
      ]
     },
     "execution_count": 21,
     "metadata": {},
     "output_type": "execute_result"
    }
   ],
   "source": [
    "\"统计软件\" * 5"
   ]
  },
  {
   "cell_type": "code",
   "execution_count": 22,
   "metadata": {
    "execution": {
     "iopub.execute_input": "2024-05-17T03:11:35.255830Z",
     "iopub.status.busy": "2024-05-17T03:11:35.255261Z",
     "iopub.status.idle": "2024-05-17T03:11:35.282614Z",
     "shell.execute_reply": "2024-05-17T03:11:35.281533Z",
     "shell.execute_reply.started": "2024-05-17T03:11:35.255790Z"
    },
    "tags": []
   },
   "outputs": [
    {
     "ename": "TypeError",
     "evalue": "can't multiply sequence by non-int of type 'float'",
     "output_type": "error",
     "traceback": [
      "\u001b[0;31m---------------------------------------------------------------------------\u001b[0m",
      "\u001b[0;31mTypeError\u001b[0m                                 Traceback (most recent call last)",
      "Cell \u001b[0;32mIn[22], line 1\u001b[0m\n\u001b[0;32m----> 1\u001b[0m \u001b[38;5;124;43m\"\u001b[39;49m\u001b[38;5;124;43m统计软件\u001b[39;49m\u001b[38;5;124;43m\"\u001b[39;49m\u001b[43m \u001b[49m\u001b[38;5;241;43m*\u001b[39;49m\u001b[43m \u001b[49m\u001b[38;5;241;43m5.0\u001b[39;49m\n",
      "\u001b[0;31mTypeError\u001b[0m: can't multiply sequence by non-int of type 'float'"
     ]
    }
   ],
   "source": [
    "\"统计软件\" * 5.0"
   ]
  },
  {
   "cell_type": "code",
   "execution_count": 23,
   "metadata": {
    "execution": {
     "iopub.execute_input": "2024-05-17T03:11:35.436774Z",
     "iopub.status.busy": "2024-05-17T03:11:35.436149Z",
     "iopub.status.idle": "2024-05-17T03:11:35.441186Z",
     "shell.execute_reply": "2024-05-17T03:11:35.440515Z",
     "shell.execute_reply.started": "2024-05-17T03:11:35.436746Z"
    },
    "tags": []
   },
   "outputs": [
    {
     "data": {
      "text/plain": [
       "'软件'"
      ]
     },
     "execution_count": 23,
     "metadata": {},
     "output_type": "execute_result"
    }
   ],
   "source": [
    "\"统计软件\"[2:4]"
   ]
  },
  {
   "cell_type": "code",
   "execution_count": 24,
   "metadata": {
    "execution": {
     "iopub.execute_input": "2024-05-17T03:11:35.597730Z",
     "iopub.status.busy": "2024-05-17T03:11:35.597489Z",
     "iopub.status.idle": "2024-05-17T03:11:35.602997Z",
     "shell.execute_reply": "2024-05-17T03:11:35.602293Z",
     "shell.execute_reply.started": "2024-05-17T03:11:35.597709Z"
    },
    "tags": []
   },
   "outputs": [
    {
     "data": {
      "text/plain": [
       "['Applied', 'Statistical', 'Software']"
      ]
     },
     "execution_count": 24,
     "metadata": {},
     "output_type": "execute_result"
    }
   ],
   "source": [
    "\"Applied Statistical Software\".split()"
   ]
  },
  {
   "cell_type": "markdown",
   "metadata": {
    "slideshow": {
     "slide_type": "slide"
    }
   },
   "source": [
    "# 数据结构"
   ]
  },
  {
   "cell_type": "markdown",
   "metadata": {
    "slideshow": {
     "slide_type": "slide"
    }
   },
   "source": [
    "## 数据结构\n",
    "\n",
    "- 列表（list）\n",
    "\n",
    "- 元组（tuple）\n",
    "\n",
    "- 字典（dictionary）\n",
    "\n",
    "- 集合（set）"
   ]
  },
  {
   "cell_type": "markdown",
   "metadata": {
    "slideshow": {
     "slide_type": "slide"
    }
   },
   "source": [
    "## 列表（list）\n",
    "\n",
    "- 列表是由一系列按照特定顺序排列的元素组成的。\n",
    "\n",
    "- 列表中的不同元素通过逗号分隔，整体放在一个方括号\"[ ]\"中。\n",
    "\n",
    "- 列表中的数据类型可以是相同的，也可以是不同的，甚至可以是列表。\n",
    "\n",
    "- 可通过方括号\"[ ]\"或者`list()`创建一个列表，也可通过`range()`构建一个规则序列的列表（类似于R中的`seq()`函数）。\n"
   ]
  },
  {
   "cell_type": "markdown",
   "metadata": {
    "slideshow": {
     "slide_type": "slide"
    }
   },
   "source": [
    "## 创建列表"
   ]
  },
  {
   "cell_type": "code",
   "execution_count": 25,
   "metadata": {
    "execution": {
     "iopub.execute_input": "2024-05-17T03:11:36.470652Z",
     "iopub.status.busy": "2024-05-17T03:11:36.470210Z",
     "iopub.status.idle": "2024-05-17T03:11:36.476186Z",
     "shell.execute_reply": "2024-05-17T03:11:36.475383Z",
     "shell.execute_reply.started": "2024-05-17T03:11:36.470627Z"
    },
    "tags": []
   },
   "outputs": [
    {
     "data": {
      "text/plain": [
       "[]"
      ]
     },
     "execution_count": 25,
     "metadata": {},
     "output_type": "execute_result"
    }
   ],
   "source": [
    "list0 = []\n",
    "list0"
   ]
  },
  {
   "cell_type": "code",
   "execution_count": 26,
   "metadata": {
    "execution": {
     "iopub.execute_input": "2024-05-17T03:11:36.645652Z",
     "iopub.status.busy": "2024-05-17T03:11:36.644976Z",
     "iopub.status.idle": "2024-05-17T03:11:36.650439Z",
     "shell.execute_reply": "2024-05-17T03:11:36.649794Z",
     "shell.execute_reply.started": "2024-05-17T03:11:36.645623Z"
    },
    "tags": []
   },
   "outputs": [
    {
     "data": {
      "text/plain": [
       "['团购名', 'id', 123456, 3j]"
      ]
     },
     "execution_count": 26,
     "metadata": {},
     "output_type": "execute_result"
    }
   ],
   "source": [
    "list1 = [\"团购名\", \"id\", 123456, 0 + 3j]\n",
    "list1"
   ]
  },
  {
   "cell_type": "code",
   "execution_count": 27,
   "metadata": {
    "execution": {
     "iopub.execute_input": "2024-05-17T03:11:36.829219Z",
     "iopub.status.busy": "2024-05-17T03:11:36.828756Z",
     "iopub.status.idle": "2024-05-17T03:11:36.835505Z",
     "shell.execute_reply": "2024-05-17T03:11:36.834601Z",
     "shell.execute_reply.started": "2024-05-17T03:11:36.829190Z"
    },
    "tags": []
   },
   "outputs": [
    {
     "data": {
      "text/plain": [
       "['a', 'b', 'c', 'd', 'e', 'f', 'g']"
      ]
     },
     "execution_count": 27,
     "metadata": {},
     "output_type": "execute_result"
    }
   ],
   "source": [
    "list(\"abcdefg\")"
   ]
  },
  {
   "cell_type": "code",
   "execution_count": 28,
   "metadata": {
    "execution": {
     "iopub.execute_input": "2024-05-17T03:11:37.005990Z",
     "iopub.status.busy": "2024-05-17T03:11:37.005462Z",
     "iopub.status.idle": "2024-05-17T03:11:37.011429Z",
     "shell.execute_reply": "2024-05-17T03:11:37.010769Z",
     "shell.execute_reply.started": "2024-05-17T03:11:37.005959Z"
    },
    "tags": []
   },
   "outputs": [
    {
     "data": {
      "text/plain": [
       "[0, 1, 2, 3, 4, 5, 6, 7, 8, 9]"
      ]
     },
     "execution_count": 28,
     "metadata": {},
     "output_type": "execute_result"
    }
   ],
   "source": [
    "list(range(10))"
   ]
  },
  {
   "cell_type": "code",
   "execution_count": 29,
   "metadata": {
    "execution": {
     "iopub.execute_input": "2024-05-17T03:11:37.188743Z",
     "iopub.status.busy": "2024-05-17T03:11:37.188376Z",
     "iopub.status.idle": "2024-05-17T03:11:37.193837Z",
     "shell.execute_reply": "2024-05-17T03:11:37.193238Z",
     "shell.execute_reply.started": "2024-05-17T03:11:37.188706Z"
    },
    "tags": []
   },
   "outputs": [
    {
     "data": {
      "text/plain": [
       "[20, 18, 16, 14, 12]"
      ]
     },
     "execution_count": 29,
     "metadata": {},
     "output_type": "execute_result"
    }
   ],
   "source": [
    "list(range(20, 10, -2))"
   ]
  },
  {
   "cell_type": "markdown",
   "metadata": {
    "slideshow": {
     "slide_type": "slide"
    }
   },
   "source": [
    "## 列表的基本操作\n",
    "\n",
    "- 查看类型： `type(list)`\n",
    "\n",
    "- 添加一个元素：\n",
    "    + `mylist.append(new_element)`\n",
    "    + `mylist.inset(position, new_element)`\n",
    "    \n",
    "- 列表的连接： `+`\n",
    "\n",
    "- 列表长度： `len()`\n",
    "\n",
    "- 删除列表： `del`\n",
    "\n",
    "- 列表索引和切片： `list[i]`, `list[:length]`,`list[start:]`, `list[start:end:step]`, `list[-i]`\n",
    "\n",
    "- 列表中是否存在某个元素：`in`,`not in`\n",
    "\n",
    "- 寻找某个元素： `index()`\n",
    "\n",
    "- 排序： `sort` 和`sorted()`"
   ]
  },
  {
   "cell_type": "markdown",
   "metadata": {
    "slideshow": {
     "slide_type": "slide"
    }
   },
   "source": [
    "## 例子（一）"
   ]
  },
  {
   "cell_type": "code",
   "execution_count": 30,
   "metadata": {
    "execution": {
     "iopub.execute_input": "2024-05-17T03:11:37.816211Z",
     "iopub.status.busy": "2024-05-17T03:11:37.815362Z",
     "iopub.status.idle": "2024-05-17T03:11:37.824047Z",
     "shell.execute_reply": "2024-05-17T03:11:37.823154Z",
     "shell.execute_reply.started": "2024-05-17T03:11:37.816135Z"
    },
    "tags": []
   },
   "outputs": [
    {
     "data": {
      "text/plain": [
       "['团购名', 'id', 123456, 3j, 'ABC']"
      ]
     },
     "execution_count": 30,
     "metadata": {},
     "output_type": "execute_result"
    }
   ],
   "source": [
    "list1.append(\"ABC\")\n",
    "list1"
   ]
  },
  {
   "cell_type": "code",
   "execution_count": 31,
   "metadata": {
    "execution": {
     "iopub.execute_input": "2024-05-17T03:11:37.949740Z",
     "iopub.status.busy": "2024-05-17T03:11:37.949276Z",
     "iopub.status.idle": "2024-05-17T03:11:37.956270Z",
     "shell.execute_reply": "2024-05-17T03:11:37.955356Z",
     "shell.execute_reply.started": "2024-05-17T03:11:37.949711Z"
    },
    "tags": []
   },
   "outputs": [
    {
     "data": {
      "text/plain": [
       "['店名', '团购名', 'id', 123456, 3j, 'ABC']"
      ]
     },
     "execution_count": 31,
     "metadata": {},
     "output_type": "execute_result"
    }
   ],
   "source": [
    "list1.insert(0, \"店名\")\n",
    "list1"
   ]
  },
  {
   "cell_type": "code",
   "execution_count": 32,
   "metadata": {
    "execution": {
     "iopub.execute_input": "2024-05-17T03:11:38.125770Z",
     "iopub.status.busy": "2024-05-17T03:11:38.125113Z",
     "iopub.status.idle": "2024-05-17T03:11:38.130403Z",
     "shell.execute_reply": "2024-05-17T03:11:38.129668Z",
     "shell.execute_reply.started": "2024-05-17T03:11:38.125739Z"
    },
    "tags": []
   },
   "outputs": [
    {
     "data": {
      "text/plain": [
       "6"
      ]
     },
     "execution_count": 32,
     "metadata": {},
     "output_type": "execute_result"
    }
   ],
   "source": [
    "len(list1)"
   ]
  },
  {
   "cell_type": "code",
   "execution_count": 33,
   "metadata": {
    "execution": {
     "iopub.execute_input": "2024-05-17T03:11:38.309963Z",
     "iopub.status.busy": "2024-05-17T03:11:38.309548Z",
     "iopub.status.idle": "2024-05-17T03:11:38.316382Z",
     "shell.execute_reply": "2024-05-17T03:11:38.315528Z",
     "shell.execute_reply.started": "2024-05-17T03:11:38.309935Z"
    },
    "tags": []
   },
   "outputs": [
    {
     "data": {
      "text/plain": [
       "['店名', '团购名', 'id', 123456, 3j, 'ABC', 'a', 'b', 'c', 'd', 'e', 'f', 'g']"
      ]
     },
     "execution_count": 33,
     "metadata": {},
     "output_type": "execute_result"
    }
   ],
   "source": [
    "list1 + list(\"abcdefg\")"
   ]
  },
  {
   "cell_type": "markdown",
   "metadata": {
    "slideshow": {
     "slide_type": "slide"
    }
   },
   "source": [
    "## 例子（二）"
   ]
  },
  {
   "cell_type": "code",
   "execution_count": 34,
   "metadata": {
    "execution": {
     "iopub.execute_input": "2024-05-17T03:11:38.661828Z",
     "iopub.status.busy": "2024-05-17T03:11:38.660998Z",
     "iopub.status.idle": "2024-05-17T03:11:38.665711Z",
     "shell.execute_reply": "2024-05-17T03:11:38.664876Z",
     "shell.execute_reply.started": "2024-05-17T03:11:38.661789Z"
    },
    "tags": []
   },
   "outputs": [],
   "source": [
    "list5 = list(range(10))"
   ]
  },
  {
   "cell_type": "code",
   "execution_count": 35,
   "metadata": {
    "execution": {
     "iopub.execute_input": "2024-05-17T03:11:38.853010Z",
     "iopub.status.busy": "2024-05-17T03:11:38.852527Z",
     "iopub.status.idle": "2024-05-17T03:11:38.860410Z",
     "shell.execute_reply": "2024-05-17T03:11:38.859452Z",
     "shell.execute_reply.started": "2024-05-17T03:11:38.852970Z"
    },
    "tags": []
   },
   "outputs": [
    {
     "data": {
      "text/plain": [
       "[0, 1, 2, 3, 4, 5, 6, 7, 8, 9]"
      ]
     },
     "execution_count": 35,
     "metadata": {},
     "output_type": "execute_result"
    }
   ],
   "source": [
    "list5[:]"
   ]
  },
  {
   "cell_type": "code",
   "execution_count": 36,
   "metadata": {
    "execution": {
     "iopub.execute_input": "2024-05-17T03:11:39.047679Z",
     "iopub.status.busy": "2024-05-17T03:11:39.047222Z",
     "iopub.status.idle": "2024-05-17T03:11:39.052173Z",
     "shell.execute_reply": "2024-05-17T03:11:39.051554Z",
     "shell.execute_reply.started": "2024-05-17T03:11:39.047651Z"
    },
    "tags": []
   },
   "outputs": [
    {
     "data": {
      "text/plain": [
       "0"
      ]
     },
     "execution_count": 36,
     "metadata": {},
     "output_type": "execute_result"
    }
   ],
   "source": [
    "list5[0]"
   ]
  },
  {
   "cell_type": "code",
   "execution_count": 37,
   "metadata": {
    "execution": {
     "iopub.execute_input": "2024-05-17T03:11:39.461732Z",
     "iopub.status.busy": "2024-05-17T03:11:39.461142Z",
     "iopub.status.idle": "2024-05-17T03:11:39.467464Z",
     "shell.execute_reply": "2024-05-17T03:11:39.466671Z",
     "shell.execute_reply.started": "2024-05-17T03:11:39.461701Z"
    },
    "tags": []
   },
   "outputs": [
    {
     "data": {
      "text/plain": [
       "[0, 1, 2]"
      ]
     },
     "execution_count": 37,
     "metadata": {},
     "output_type": "execute_result"
    }
   ],
   "source": [
    "list5[:3]"
   ]
  },
  {
   "cell_type": "code",
   "execution_count": 38,
   "metadata": {
    "execution": {
     "iopub.execute_input": "2024-05-17T03:11:39.469618Z",
     "iopub.status.busy": "2024-05-17T03:11:39.469007Z",
     "iopub.status.idle": "2024-05-17T03:11:39.475297Z",
     "shell.execute_reply": "2024-05-17T03:11:39.474459Z",
     "shell.execute_reply.started": "2024-05-17T03:11:39.469584Z"
    },
    "tags": []
   },
   "outputs": [
    {
     "data": {
      "text/plain": [
       "[2, 4, 6]"
      ]
     },
     "execution_count": 38,
     "metadata": {},
     "output_type": "execute_result"
    }
   ],
   "source": [
    "list5[2:7:2]"
   ]
  },
  {
   "cell_type": "code",
   "execution_count": 39,
   "metadata": {
    "execution": {
     "iopub.execute_input": "2024-05-17T03:11:39.608066Z",
     "iopub.status.busy": "2024-05-17T03:11:39.607763Z",
     "iopub.status.idle": "2024-05-17T03:11:39.613922Z",
     "shell.execute_reply": "2024-05-17T03:11:39.613102Z",
     "shell.execute_reply.started": "2024-05-17T03:11:39.608040Z"
    },
    "tags": []
   },
   "outputs": [
    {
     "data": {
      "text/plain": [
       "9"
      ]
     },
     "execution_count": 39,
     "metadata": {},
     "output_type": "execute_result"
    }
   ],
   "source": [
    "list5[-1]"
   ]
  },
  {
   "cell_type": "markdown",
   "metadata": {
    "slideshow": {
     "slide_type": "slide"
    }
   },
   "source": [
    "## 例子（三）"
   ]
  },
  {
   "cell_type": "code",
   "execution_count": 40,
   "metadata": {
    "execution": {
     "iopub.execute_input": "2024-05-17T03:11:39.958545Z",
     "iopub.status.busy": "2024-05-17T03:11:39.957649Z",
     "iopub.status.idle": "2024-05-17T03:11:39.964921Z",
     "shell.execute_reply": "2024-05-17T03:11:39.964162Z",
     "shell.execute_reply.started": "2024-05-17T03:11:39.958492Z"
    },
    "tags": []
   },
   "outputs": [
    {
     "data": {
      "text/plain": [
       "[1, 3, 5, 7]"
      ]
     },
     "execution_count": 40,
     "metadata": {},
     "output_type": "execute_result"
    }
   ],
   "source": [
    "L = [5, 3, 7, 1]\n",
    "L.sort()  # 永久改变列表\n",
    "L"
   ]
  },
  {
   "cell_type": "code",
   "execution_count": 41,
   "metadata": {
    "execution": {
     "iopub.execute_input": "2024-05-17T03:11:40.160022Z",
     "iopub.status.busy": "2024-05-17T03:11:40.159219Z",
     "iopub.status.idle": "2024-05-17T03:11:40.165643Z",
     "shell.execute_reply": "2024-05-17T03:11:40.165002Z",
     "shell.execute_reply.started": "2024-05-17T03:11:40.159983Z"
    },
    "tags": []
   },
   "outputs": [
    {
     "data": {
      "text/plain": [
       "[1, 3, 5, 7]"
      ]
     },
     "execution_count": 41,
     "metadata": {},
     "output_type": "execute_result"
    }
   ],
   "source": [
    "L = [5, 3, 7, 1]\n",
    "sorted(L)  # 临时改变列表"
   ]
  },
  {
   "cell_type": "code",
   "execution_count": 42,
   "metadata": {
    "execution": {
     "iopub.execute_input": "2024-05-17T03:11:40.332022Z",
     "iopub.status.busy": "2024-05-17T03:11:40.331770Z",
     "iopub.status.idle": "2024-05-17T03:11:40.337177Z",
     "shell.execute_reply": "2024-05-17T03:11:40.336336Z",
     "shell.execute_reply.started": "2024-05-17T03:11:40.332002Z"
    },
    "tags": []
   },
   "outputs": [
    {
     "data": {
      "text/plain": [
       "[5, 3, 7, 1]"
      ]
     },
     "execution_count": 42,
     "metadata": {},
     "output_type": "execute_result"
    }
   ],
   "source": [
    "L"
   ]
  },
  {
   "cell_type": "code",
   "execution_count": 43,
   "metadata": {
    "execution": {
     "iopub.execute_input": "2024-05-17T03:11:40.517242Z",
     "iopub.status.busy": "2024-05-17T03:11:40.516568Z",
     "iopub.status.idle": "2024-05-17T03:11:40.522779Z",
     "shell.execute_reply": "2024-05-17T03:11:40.522025Z",
     "shell.execute_reply.started": "2024-05-17T03:11:40.517205Z"
    },
    "tags": []
   },
   "outputs": [
    {
     "data": {
      "text/plain": [
       "[7, 5, 3, 1]"
      ]
     },
     "execution_count": 43,
     "metadata": {},
     "output_type": "execute_result"
    }
   ],
   "source": [
    "sorted(L, reverse=True)"
   ]
  },
  {
   "cell_type": "markdown",
   "metadata": {
    "slideshow": {
     "slide_type": "slide"
    }
   },
   "source": [
    "## 元组（tuple）\n",
    "\n",
    "- 元组是一种有序的数据类型，类似于列表，但一旦建立后不能对其元素进行修改，因此更安全和运行速度更快。\n",
    "\n",
    "- 元组使用小括号`( )`创建，元素之间用逗号隔开。"
   ]
  },
  {
   "cell_type": "markdown",
   "metadata": {
    "slideshow": {
     "slide_type": "slide"
    }
   },
   "source": [
    "## 例子（一)"
   ]
  },
  {
   "cell_type": "code",
   "execution_count": 44,
   "metadata": {
    "execution": {
     "iopub.execute_input": "2024-05-17T03:11:41.094149Z",
     "iopub.status.busy": "2024-05-17T03:11:41.093651Z",
     "iopub.status.idle": "2024-05-17T03:11:41.098338Z",
     "shell.execute_reply": "2024-05-17T03:11:41.097398Z",
     "shell.execute_reply.started": "2024-05-17T03:11:41.094118Z"
    },
    "tags": []
   },
   "outputs": [],
   "source": [
    "tuple1 = (2, 4, 5)\n",
    "tuple2 = (\"a\", \"b\", \"c\")"
   ]
  },
  {
   "cell_type": "code",
   "execution_count": 45,
   "metadata": {
    "execution": {
     "iopub.execute_input": "2024-05-17T03:11:41.293637Z",
     "iopub.status.busy": "2024-05-17T03:11:41.292937Z",
     "iopub.status.idle": "2024-05-17T03:11:41.298236Z",
     "shell.execute_reply": "2024-05-17T03:11:41.297579Z",
     "shell.execute_reply.started": "2024-05-17T03:11:41.293607Z"
    },
    "tags": []
   },
   "outputs": [
    {
     "data": {
      "text/plain": [
       "'b'"
      ]
     },
     "execution_count": 45,
     "metadata": {},
     "output_type": "execute_result"
    }
   ],
   "source": [
    "tuple2[1]"
   ]
  },
  {
   "cell_type": "code",
   "execution_count": 46,
   "metadata": {
    "execution": {
     "iopub.execute_input": "2024-05-17T03:11:41.494078Z",
     "iopub.status.busy": "2024-05-17T03:11:41.493578Z",
     "iopub.status.idle": "2024-05-17T03:11:41.500048Z",
     "shell.execute_reply": "2024-05-17T03:11:41.499212Z",
     "shell.execute_reply.started": "2024-05-17T03:11:41.494023Z"
    },
    "tags": []
   },
   "outputs": [
    {
     "data": {
      "text/plain": [
       "('c',)"
      ]
     },
     "execution_count": 46,
     "metadata": {},
     "output_type": "execute_result"
    }
   ],
   "source": [
    "tuple2[2:3]"
   ]
  },
  {
   "cell_type": "code",
   "execution_count": 47,
   "metadata": {
    "execution": {
     "iopub.execute_input": "2024-05-17T03:11:41.693659Z",
     "iopub.status.busy": "2024-05-17T03:11:41.692946Z",
     "iopub.status.idle": "2024-05-17T03:11:41.719068Z",
     "shell.execute_reply": "2024-05-17T03:11:41.718196Z",
     "shell.execute_reply.started": "2024-05-17T03:11:41.693627Z"
    },
    "tags": []
   },
   "outputs": [
    {
     "ename": "TypeError",
     "evalue": "'tuple' object does not support item assignment",
     "output_type": "error",
     "traceback": [
      "\u001b[0;31m---------------------------------------------------------------------------\u001b[0m",
      "\u001b[0;31mTypeError\u001b[0m                                 Traceback (most recent call last)",
      "Cell \u001b[0;32mIn[47], line 1\u001b[0m\n\u001b[0;32m----> 1\u001b[0m tuple2[\u001b[38;5;241m2\u001b[39m] \u001b[38;5;241m=\u001b[39m \u001b[38;5;241m4\u001b[39m\n",
      "\u001b[0;31mTypeError\u001b[0m: 'tuple' object does not support item assignment"
     ]
    }
   ],
   "source": [
    "tuple2[2] = 4"
   ]
  },
  {
   "cell_type": "code",
   "execution_count": 48,
   "metadata": {
    "execution": {
     "iopub.execute_input": "2024-05-17T03:11:41.894568Z",
     "iopub.status.busy": "2024-05-17T03:11:41.894140Z",
     "iopub.status.idle": "2024-05-17T03:11:41.900713Z",
     "shell.execute_reply": "2024-05-17T03:11:41.899818Z",
     "shell.execute_reply.started": "2024-05-17T03:11:41.894541Z"
    },
    "tags": []
   },
   "outputs": [
    {
     "data": {
      "text/plain": [
       "('a', 'b', 'c', 2, 4, 5)"
      ]
     },
     "execution_count": 48,
     "metadata": {},
     "output_type": "execute_result"
    }
   ],
   "source": [
    "tuple2 + tuple1"
   ]
  },
  {
   "cell_type": "markdown",
   "metadata": {
    "slideshow": {
     "slide_type": "slide"
    }
   },
   "source": [
    "## 字典（dictionary）\n",
    "\n",
    "- 字典是一种保存“键值对”的数据结构\n",
    "\n",
    "- 使用花括号`{ }`可以创建字典，字典用键-值(key-value)存储，其中key和value用 `:` 对应。\n",
    "\n",
    "- 常用的函数操作有\n",
    "    - `keys()`: 返回所有键的信息\n",
    "    - `values()`:返回所有值的信息\n",
    "    - `items()`:返回所有键值的信息\n",
    "    - `get()`:如果键存在，则返回相应的值；如果键不存在，则结果为 `get()` 方法设置的默认值"
   ]
  },
  {
   "cell_type": "markdown",
   "metadata": {
    "slideshow": {
     "slide_type": "slide"
    }
   },
   "source": [
    "## 例子（一）"
   ]
  },
  {
   "cell_type": "code",
   "execution_count": 49,
   "metadata": {
    "execution": {
     "iopub.execute_input": "2024-05-17T03:11:42.492663Z",
     "iopub.status.busy": "2024-05-17T03:11:42.485151Z",
     "iopub.status.idle": "2024-05-17T03:11:42.502658Z",
     "shell.execute_reply": "2024-05-17T03:11:42.501619Z",
     "shell.execute_reply.started": "2024-05-17T03:11:42.491985Z"
    },
    "tags": []
   },
   "outputs": [],
   "source": [
    "dict0 = {\"海底捞\": 10, \"海银海记\": 8}"
   ]
  },
  {
   "cell_type": "code",
   "execution_count": 50,
   "metadata": {
    "execution": {
     "iopub.execute_input": "2024-05-17T03:11:42.678316Z",
     "iopub.status.busy": "2024-05-17T03:11:42.677821Z",
     "iopub.status.idle": "2024-05-17T03:11:42.684546Z",
     "shell.execute_reply": "2024-05-17T03:11:42.683649Z",
     "shell.execute_reply.started": "2024-05-17T03:11:42.678288Z"
    },
    "tags": []
   },
   "outputs": [
    {
     "data": {
      "text/plain": [
       "10"
      ]
     },
     "execution_count": 50,
     "metadata": {},
     "output_type": "execute_result"
    }
   ],
   "source": [
    "dict0[\"海底捞\"] # 等价于 dict0.get(\"海底捞\")"
   ]
  },
  {
   "cell_type": "code",
   "execution_count": 51,
   "metadata": {
    "execution": {
     "iopub.execute_input": "2024-05-17T03:11:43.113333Z",
     "iopub.status.busy": "2024-05-17T03:11:43.112734Z",
     "iopub.status.idle": "2024-05-17T03:11:43.122445Z",
     "shell.execute_reply": "2024-05-17T03:11:43.121155Z",
     "shell.execute_reply.started": "2024-05-17T03:11:43.113283Z"
    },
    "tags": []
   },
   "outputs": [
    {
     "data": {
      "text/plain": [
       "dict_keys(['海底捞', '海银海记'])"
      ]
     },
     "execution_count": 51,
     "metadata": {},
     "output_type": "execute_result"
    }
   ],
   "source": [
    "dict0.keys()"
   ]
  },
  {
   "cell_type": "code",
   "execution_count": 52,
   "metadata": {
    "execution": {
     "iopub.execute_input": "2024-05-17T03:11:43.126150Z",
     "iopub.status.busy": "2024-05-17T03:11:43.125161Z",
     "iopub.status.idle": "2024-05-17T03:11:43.133848Z",
     "shell.execute_reply": "2024-05-17T03:11:43.132632Z",
     "shell.execute_reply.started": "2024-05-17T03:11:43.126096Z"
    },
    "tags": []
   },
   "outputs": [
    {
     "data": {
      "text/plain": [
       "dict_values([10, 8])"
      ]
     },
     "execution_count": 52,
     "metadata": {},
     "output_type": "execute_result"
    }
   ],
   "source": [
    "dict0.values()"
   ]
  },
  {
   "cell_type": "code",
   "execution_count": 53,
   "metadata": {
    "execution": {
     "iopub.execute_input": "2024-05-17T03:11:43.273076Z",
     "iopub.status.busy": "2024-05-17T03:11:43.272502Z",
     "iopub.status.idle": "2024-05-17T03:11:43.278990Z",
     "shell.execute_reply": "2024-05-17T03:11:43.278022Z",
     "shell.execute_reply.started": "2024-05-17T03:11:43.273046Z"
    },
    "tags": []
   },
   "outputs": [
    {
     "data": {
      "text/plain": [
       "{'海底捞': 10, '海银海记': 8, '老北京涮肉': 0}"
      ]
     },
     "execution_count": 53,
     "metadata": {},
     "output_type": "execute_result"
    }
   ],
   "source": [
    "dict0[\"老北京涮肉\"] = 0 # 新增内容\n",
    "dict0"
   ]
  },
  {
   "cell_type": "code",
   "execution_count": 54,
   "metadata": {
    "execution": {
     "iopub.execute_input": "2024-05-17T03:11:43.469594Z",
     "iopub.status.busy": "2024-05-17T03:11:43.469308Z",
     "iopub.status.idle": "2024-05-17T03:11:43.475277Z",
     "shell.execute_reply": "2024-05-17T03:11:43.474569Z",
     "shell.execute_reply.started": "2024-05-17T03:11:43.469572Z"
    },
    "tags": []
   },
   "outputs": [
    {
     "data": {
      "text/plain": [
       "{'海底捞': 10, '海银海记': 8}"
      ]
     },
     "execution_count": 54,
     "metadata": {},
     "output_type": "execute_result"
    }
   ],
   "source": [
    "del dict0[\"老北京涮肉\"]\n",
    "dict0"
   ]
  },
  {
   "cell_type": "markdown",
   "metadata": {
    "slideshow": {
     "slide_type": "slide"
    }
   },
   "source": [
    "## 集合（set）\n",
    "\n",
    "- 集合和字典一样，是无序的，但集合中的元素不可重复。\n",
    "\n",
    "- 集合可以理解为只有键没有值的字典。\n",
    "\n",
    "- Python中使用集合主要有两个重要的功能：\n",
    "    1. 集合操作\n",
    "    \n",
    "    2. 消除重复元素\n",
    "    \n",
    "- 创建集合：使用花括号`{ }` 或者`set()`创建。\n",
    "\n",
    "- 运算：`-`, `&`, `|`"
   ]
  },
  {
   "cell_type": "markdown",
   "metadata": {
    "slideshow": {
     "slide_type": "slide"
    }
   },
   "source": [
    "## 例子（一）"
   ]
  },
  {
   "cell_type": "code",
   "execution_count": 55,
   "metadata": {
    "execution": {
     "iopub.execute_input": "2024-05-17T03:11:44.053149Z",
     "iopub.status.busy": "2024-05-17T03:11:44.052534Z",
     "iopub.status.idle": "2024-05-17T03:11:44.059182Z",
     "shell.execute_reply": "2024-05-17T03:11:44.058351Z",
     "shell.execute_reply.started": "2024-05-17T03:11:44.053115Z"
    },
    "tags": []
   },
   "outputs": [
    {
     "data": {
      "text/plain": [
       "{1, 2, 's'}"
      ]
     },
     "execution_count": 55,
     "metadata": {},
     "output_type": "execute_result"
    }
   ],
   "source": [
    "set1 = {1, 2, \"s\", 1, 1}\n",
    "set1"
   ]
  },
  {
   "cell_type": "code",
   "execution_count": 56,
   "metadata": {
    "execution": {
     "iopub.execute_input": "2024-05-17T03:11:44.277692Z",
     "iopub.status.busy": "2024-05-17T03:11:44.277187Z",
     "iopub.status.idle": "2024-05-17T03:11:44.284535Z",
     "shell.execute_reply": "2024-05-17T03:11:44.283557Z",
     "shell.execute_reply.started": "2024-05-17T03:11:44.277662Z"
    },
    "tags": []
   },
   "outputs": [
    {
     "data": {
      "text/plain": [
       "{1, 3, 4, 5}"
      ]
     },
     "execution_count": 56,
     "metadata": {},
     "output_type": "execute_result"
    }
   ],
   "source": [
    "set2 = set([1, 3, 4, 5])\n",
    "set2"
   ]
  },
  {
   "cell_type": "code",
   "execution_count": 57,
   "metadata": {
    "execution": {
     "iopub.execute_input": "2024-05-17T03:11:44.476843Z",
     "iopub.status.busy": "2024-05-17T03:11:44.476420Z",
     "iopub.status.idle": "2024-05-17T03:11:44.481642Z",
     "shell.execute_reply": "2024-05-17T03:11:44.480952Z",
     "shell.execute_reply.started": "2024-05-17T03:11:44.476819Z"
    },
    "tags": []
   },
   "outputs": [
    {
     "data": {
      "text/plain": [
       "{2, 's'}"
      ]
     },
     "execution_count": 57,
     "metadata": {},
     "output_type": "execute_result"
    }
   ],
   "source": [
    "set1 - set2"
   ]
  },
  {
   "cell_type": "code",
   "execution_count": 58,
   "metadata": {
    "execution": {
     "iopub.execute_input": "2024-05-17T03:11:44.872253Z",
     "iopub.status.busy": "2024-05-17T03:11:44.871693Z",
     "iopub.status.idle": "2024-05-17T03:11:44.878313Z",
     "shell.execute_reply": "2024-05-17T03:11:44.877484Z",
     "shell.execute_reply.started": "2024-05-17T03:11:44.872218Z"
    },
    "tags": []
   },
   "outputs": [
    {
     "data": {
      "text/plain": [
       "{1, 2, 3, 4, 5, 's'}"
      ]
     },
     "execution_count": 58,
     "metadata": {},
     "output_type": "execute_result"
    }
   ],
   "source": [
    "set1 | set2"
   ]
  },
  {
   "cell_type": "code",
   "execution_count": 59,
   "metadata": {
    "execution": {
     "iopub.execute_input": "2024-05-17T03:11:44.885321Z",
     "iopub.status.busy": "2024-05-17T03:11:44.885079Z",
     "iopub.status.idle": "2024-05-17T03:11:44.890739Z",
     "shell.execute_reply": "2024-05-17T03:11:44.890063Z",
     "shell.execute_reply.started": "2024-05-17T03:11:44.885300Z"
    },
    "tags": []
   },
   "outputs": [
    {
     "data": {
      "text/plain": [
       "{'上海', '北京', '合肥', '广州', '深圳'}"
      ]
     },
     "execution_count": 59,
     "metadata": {},
     "output_type": "execute_result"
    }
   ],
   "source": [
    "set3 = {\"北京\", \"上海\", \"广州\", \"深圳\"}\n",
    "set3.add(\"合肥\")\n",
    "set3"
   ]
  },
  {
   "cell_type": "code",
   "execution_count": 60,
   "metadata": {
    "execution": {
     "iopub.execute_input": "2024-05-17T03:11:45.103671Z",
     "iopub.status.busy": "2024-05-17T03:11:45.103056Z",
     "iopub.status.idle": "2024-05-17T03:11:45.109996Z",
     "shell.execute_reply": "2024-05-17T03:11:45.109045Z",
     "shell.execute_reply.started": "2024-05-17T03:11:45.103636Z"
    },
    "tags": []
   },
   "outputs": [
    {
     "data": {
      "text/plain": [
       "{'上海', '北京', '广州', '深圳'}"
      ]
     },
     "execution_count": 60,
     "metadata": {},
     "output_type": "execute_result"
    }
   ],
   "source": [
    "set3.remove(\"合肥\")\n",
    "set3"
   ]
  },
  {
   "cell_type": "markdown",
   "metadata": {
    "slideshow": {
     "slide_type": "slide"
    }
   },
   "source": [
    "# 控制流"
   ]
  },
  {
   "cell_type": "markdown",
   "metadata": {
    "slideshow": {
     "slide_type": "slide"
    }
   },
   "source": [
    "## 分支结构\n",
    "\n",
    "- `if-else`分支结构:"
   ]
  },
  {
   "cell_type": "code",
   "execution_count": 61,
   "metadata": {
    "execution": {
     "iopub.execute_input": "2024-05-17T03:11:45.938761Z",
     "iopub.status.busy": "2024-05-17T03:11:45.937915Z",
     "iopub.status.idle": "2024-05-17T03:11:50.301168Z",
     "shell.execute_reply": "2024-05-17T03:11:50.300227Z",
     "shell.execute_reply.started": "2024-05-17T03:11:45.938708Z"
    },
    "tags": []
   },
   "outputs": [
    {
     "name": "stdin",
     "output_type": "stream",
     "text": [
      "请输入一个整数： 1\n"
     ]
    },
    {
     "name": "stdout",
     "output_type": "stream",
     "text": [
      "1\n"
     ]
    }
   ],
   "source": [
    "x = int(input(\"请输入一个整数：\"))\n",
    "if x >= 0:\n",
    "    print(x)\n",
    "else:\n",
    "    print(-x)"
   ]
  },
  {
   "cell_type": "markdown",
   "metadata": {
    "execution": {
     "iopub.execute_input": "2024-05-17T02:54:43.785593Z",
     "iopub.status.busy": "2024-05-17T02:54:43.784882Z",
     "iopub.status.idle": "2024-05-17T02:54:43.791047Z",
     "shell.execute_reply": "2024-05-17T02:54:43.790067Z",
     "shell.execute_reply.started": "2024-05-17T02:54:43.785547Z"
    },
    "tags": []
   },
   "source": [
    "- `if-elif-else`分支结构:"
   ]
  },
  {
   "cell_type": "code",
   "execution_count": 62,
   "metadata": {
    "execution": {
     "iopub.execute_input": "2024-05-17T03:11:54.366755Z",
     "iopub.status.busy": "2024-05-17T03:11:54.366351Z",
     "iopub.status.idle": "2024-05-17T03:11:56.823160Z",
     "shell.execute_reply": "2024-05-17T03:11:56.822097Z",
     "shell.execute_reply.started": "2024-05-17T03:11:54.366733Z"
    },
    "tags": []
   },
   "outputs": [
    {
     "name": "stdin",
     "output_type": "stream",
     "text": [
      "请输入一个整数： 1\n"
     ]
    },
    {
     "name": "stdout",
     "output_type": "stream",
     "text": [
      "1\n"
     ]
    }
   ],
   "source": [
    "x = int(input(\"请输入一个整数：\"))\n",
    "if x > 0:\n",
    "    print(x)\n",
    "elif x < 0:\n",
    "    print(-x)\n",
    "else:\n",
    "    print(0)"
   ]
  },
  {
   "cell_type": "markdown",
   "metadata": {
    "slideshow": {
     "slide_type": "slide"
    }
   },
   "source": [
    "## 循环结构\n",
    "\n",
    "- `for`"
   ]
  },
  {
   "cell_type": "code",
   "execution_count": 63,
   "metadata": {
    "execution": {
     "iopub.execute_input": "2024-05-17T03:12:00.961507Z",
     "iopub.status.busy": "2024-05-17T03:12:00.960729Z",
     "iopub.status.idle": "2024-05-17T03:12:00.965817Z",
     "shell.execute_reply": "2024-05-17T03:12:00.965104Z",
     "shell.execute_reply.started": "2024-05-17T03:12:00.961464Z"
    },
    "tags": []
   },
   "outputs": [
    {
     "name": "stdout",
     "output_type": "stream",
     "text": [
      "45\n"
     ]
    }
   ],
   "source": [
    "s = 0\n",
    "for i in range(10):\n",
    "    s = s + i\n",
    "print(s)"
   ]
  },
  {
   "cell_type": "code",
   "execution_count": 64,
   "metadata": {
    "execution": {
     "iopub.execute_input": "2024-05-17T03:12:01.486639Z",
     "iopub.status.busy": "2024-05-17T03:12:01.486089Z",
     "iopub.status.idle": "2024-05-17T03:12:01.491530Z",
     "shell.execute_reply": "2024-05-17T03:12:01.490780Z",
     "shell.execute_reply.started": "2024-05-17T03:12:01.486607Z"
    },
    "tags": []
   },
   "outputs": [
    {
     "name": "stdout",
     "output_type": "stream",
     "text": [
      "0\n",
      "1\n",
      "3\n",
      "6\n",
      "10\n",
      "15\n",
      "21\n",
      "28\n",
      "36\n",
      "45\n"
     ]
    }
   ],
   "source": [
    "s = 0\n",
    "for i in range(10):\n",
    "    s = s + i\n",
    "    print(s)"
   ]
  },
  {
   "cell_type": "markdown",
   "metadata": {
    "slideshow": {
     "slide_type": "slide"
    }
   },
   "source": [
    "## 循环结构(续）\n",
    "\n",
    "- `while`\n"
   ]
  },
  {
   "cell_type": "code",
   "execution_count": 65,
   "metadata": {
    "execution": {
     "iopub.execute_input": "2024-05-17T03:12:02.061753Z",
     "iopub.status.busy": "2024-05-17T03:12:02.061301Z",
     "iopub.status.idle": "2024-05-17T03:12:02.066386Z",
     "shell.execute_reply": "2024-05-17T03:12:02.065624Z",
     "shell.execute_reply.started": "2024-05-17T03:12:02.061728Z"
    },
    "tags": []
   },
   "outputs": [
    {
     "name": "stdout",
     "output_type": "stream",
     "text": [
      "1 的平方是 1\n",
      "2 的平方是 4\n",
      "3 的平方是 9\n",
      "4 的平方是 16\n",
      "5 的平方是 25\n",
      "6 的平方是 36\n",
      "7 的平方是 49\n",
      "8 的平方是 64\n",
      "9 的平方是 81\n"
     ]
    }
   ],
   "source": [
    "i = 1\n",
    "while i**2 < 100:\n",
    "    print(i, \"的平方是\", i**2)\n",
    "    i = i + 1"
   ]
  },
  {
   "cell_type": "markdown",
   "metadata": {
    "slideshow": {
     "slide_type": "slide"
    }
   },
   "source": [
    "## 循环结构-跳出循环\n",
    "\n",
    "- `break`：跳出整个循环\n",
    "\n",
    "- `continuous`：跳出当前的迭代，继续往下迭代。\n"
   ]
  },
  {
   "cell_type": "code",
   "execution_count": 66,
   "metadata": {
    "execution": {
     "iopub.execute_input": "2024-05-17T03:12:02.447547Z",
     "iopub.status.busy": "2024-05-17T03:12:02.446902Z",
     "iopub.status.idle": "2024-05-17T03:12:02.456685Z",
     "shell.execute_reply": "2024-05-17T03:12:02.455190Z",
     "shell.execute_reply.started": "2024-05-17T03:12:02.447493Z"
    },
    "tags": []
   },
   "outputs": [
    {
     "name": "stdout",
     "output_type": "stream",
     "text": [
      "列表l中出现的第一个负数为 -1\n"
     ]
    }
   ],
   "source": [
    "l = [1, 3, 65, 3, -1, 56, -10]\n",
    "for x in l:\n",
    "    if x < 0:\n",
    "        break\n",
    "print(\"列表l中出现的第一个负数为\", x)"
   ]
  },
  {
   "cell_type": "code",
   "execution_count": 67,
   "metadata": {
    "execution": {
     "iopub.execute_input": "2024-05-17T03:12:02.662954Z",
     "iopub.status.busy": "2024-05-17T03:12:02.662465Z",
     "iopub.status.idle": "2024-05-17T03:12:02.668370Z",
     "shell.execute_reply": "2024-05-17T03:12:02.667523Z",
     "shell.execute_reply.started": "2024-05-17T03:12:02.662922Z"
    },
    "tags": []
   },
   "outputs": [
    {
     "name": "stdout",
     "output_type": "stream",
     "text": [
      "1 的平方根为  1.000\n",
      "3 的平方根为  1.732\n",
      "65 的平方根为  8.062\n",
      "3 的平方根为  1.732\n",
      "56 的平方根为  7.483\n"
     ]
    }
   ],
   "source": [
    "from math import sqrt\n",
    "l = [1, 3, 65, 3, -1, 56, -10]\n",
    "for x in l:\n",
    "    if x < 0:\n",
    "        continue\n",
    "    print(f\"{x} 的平方根为 {sqrt(x): .3f}\")"
   ]
  },
  {
   "cell_type": "markdown",
   "metadata": {
    "slideshow": {
     "slide_type": "slide"
    }
   },
   "source": [
    "# 函数"
   ]
  },
  {
   "cell_type": "markdown",
   "metadata": {
    "slideshow": {
     "slide_type": "slide"
    }
   },
   "source": [
    "## 函数\n",
    "\n",
    "- Python函数的定义如下："
   ]
  },
  {
   "cell_type": "code",
   "execution_count": null,
   "metadata": {
    "tags": []
   },
   "outputs": [],
   "source": [
    "def 函数名 (<参数列表>)\n",
    "    函数主体\n",
    "    return <返回值列表>"
   ]
  },
  {
   "cell_type": "markdown",
   "metadata": {},
   "source": [
    "- 函数名：符合Python命名规则的任意有效表示符。\n",
    "\n",
    "- 参数列表：调用该函数时传递给它的值，多个参数之间用逗号隔开。\n",
    "\n",
    "- return：产生函数返回值，其中多条返回语句可被接受，如果没有遇到return语句，则自动返回None。"
   ]
  },
  {
   "cell_type": "markdown",
   "metadata": {
    "slideshow": {
     "slide_type": "slide"
    }
   },
   "source": [
    "## 例子"
   ]
  },
  {
   "cell_type": "code",
   "execution_count": 69,
   "metadata": {
    "execution": {
     "iopub.execute_input": "2024-05-17T03:12:03.919934Z",
     "iopub.status.busy": "2024-05-17T03:12:03.919346Z",
     "iopub.status.idle": "2024-05-17T03:12:03.924613Z",
     "shell.execute_reply": "2024-05-17T03:12:03.923575Z",
     "shell.execute_reply.started": "2024-05-17T03:12:03.919899Z"
    },
    "tags": []
   },
   "outputs": [],
   "source": [
    "def double(x):\n",
    "    \"This function multiplies its argument by two.\"\n",
    "    return x * 2"
   ]
  },
  {
   "cell_type": "code",
   "execution_count": 70,
   "metadata": {
    "execution": {
     "iopub.execute_input": "2024-05-17T03:12:04.165507Z",
     "iopub.status.busy": "2024-05-17T03:12:04.165031Z",
     "iopub.status.idle": "2024-05-17T03:12:04.170610Z",
     "shell.execute_reply": "2024-05-17T03:12:04.170052Z",
     "shell.execute_reply.started": "2024-05-17T03:12:04.165480Z"
    },
    "tags": []
   },
   "outputs": [
    {
     "name": "stdout",
     "output_type": "stream",
     "text": [
      "Help on function double in module __main__:\n",
      "\n",
      "double(x)\n",
      "    This function multiplies its argument by two.\n",
      "\n"
     ]
    }
   ],
   "source": [
    "help(double)"
   ]
  },
  {
   "cell_type": "code",
   "execution_count": 71,
   "metadata": {
    "execution": {
     "iopub.execute_input": "2024-05-17T03:12:04.543641Z",
     "iopub.status.busy": "2024-05-17T03:12:04.543101Z",
     "iopub.status.idle": "2024-05-17T03:12:04.548825Z",
     "shell.execute_reply": "2024-05-17T03:12:04.548179Z",
     "shell.execute_reply.started": "2024-05-17T03:12:04.543609Z"
    },
    "tags": []
   },
   "outputs": [
    {
     "data": {
      "text/plain": [
       "8"
      ]
     },
     "execution_count": 71,
     "metadata": {},
     "output_type": "execute_result"
    }
   ],
   "source": [
    "double(4)"
   ]
  },
  {
   "cell_type": "code",
   "execution_count": 72,
   "metadata": {
    "execution": {
     "iopub.execute_input": "2024-05-17T03:12:04.605391Z",
     "iopub.status.busy": "2024-05-17T03:12:04.605023Z",
     "iopub.status.idle": "2024-05-17T03:12:04.609531Z",
     "shell.execute_reply": "2024-05-17T03:12:04.609037Z",
     "shell.execute_reply.started": "2024-05-17T03:12:04.605367Z"
    },
    "tags": []
   },
   "outputs": [
    {
     "data": {
      "text/plain": [
       "'absabs'"
      ]
     },
     "execution_count": 72,
     "metadata": {},
     "output_type": "execute_result"
    }
   ],
   "source": [
    "double(\"abs\")"
   ]
  },
  {
   "cell_type": "markdown",
   "metadata": {
    "slideshow": {
     "slide_type": "slide"
    }
   },
   "source": [
    "## 函数参数的默认值\n",
    "\n",
    "- 输入参数带默认值，只需要在参数定义的时候赋值\n",
    "\n",
    "- 在定义函数的时候，指定默认的参数必须在所有的参数的最后，否则将产生语法错误。\n",
    "\n",
    "- 默认参数必须指向不可变的对象。"
   ]
  },
  {
   "cell_type": "markdown",
   "metadata": {
    "slideshow": {
     "slide_type": "slide"
    }
   },
   "source": [
    "## 例子"
   ]
  },
  {
   "cell_type": "code",
   "execution_count": 73,
   "metadata": {
    "execution": {
     "iopub.execute_input": "2024-05-17T03:12:05.967271Z",
     "iopub.status.busy": "2024-05-17T03:12:05.966665Z",
     "iopub.status.idle": "2024-05-17T03:12:05.973343Z",
     "shell.execute_reply": "2024-05-17T03:12:05.972707Z",
     "shell.execute_reply.started": "2024-05-17T03:12:05.967235Z"
    },
    "tags": []
   },
   "outputs": [
    {
     "data": {
      "text/plain": [
       "4"
      ]
     },
     "execution_count": 73,
     "metadata": {},
     "output_type": "execute_result"
    }
   ],
   "source": [
    "def double(x=2):\n",
    "    \"This function multiplies its argument by two.\"\n",
    "    return x * 2\n",
    "double()"
   ]
  },
  {
   "cell_type": "code",
   "execution_count": 74,
   "metadata": {
    "execution": {
     "iopub.execute_input": "2024-05-17T03:12:05.975266Z",
     "iopub.status.busy": "2024-05-17T03:12:05.974633Z",
     "iopub.status.idle": "2024-05-17T03:12:05.979377Z",
     "shell.execute_reply": "2024-05-17T03:12:05.978589Z",
     "shell.execute_reply.started": "2024-05-17T03:12:05.975238Z"
    },
    "tags": []
   },
   "outputs": [
    {
     "ename": "SyntaxError",
     "evalue": "non-default argument follows default argument (3757367710.py, line 1)",
     "output_type": "error",
     "traceback": [
      "\u001b[0;36m  Cell \u001b[0;32mIn[74], line 1\u001b[0;36m\u001b[0m\n\u001b[0;31m    def mul(x=2, y):\u001b[0m\n\u001b[0m            ^\u001b[0m\n\u001b[0;31mSyntaxError\u001b[0m\u001b[0;31m:\u001b[0m non-default argument follows default argument\n"
     ]
    }
   ],
   "source": [
    "def mul(x=2, y):\n",
    "    \"This function multiplies its argument by two.\"\n",
    "    return x * 2\n",
    "double()"
   ]
  },
  {
   "cell_type": "code",
   "execution_count": 75,
   "metadata": {
    "execution": {
     "iopub.execute_input": "2024-05-17T03:12:06.282978Z",
     "iopub.status.busy": "2024-05-17T03:12:06.282122Z",
     "iopub.status.idle": "2024-05-17T03:12:06.292883Z",
     "shell.execute_reply": "2024-05-17T03:12:06.291454Z",
     "shell.execute_reply.started": "2024-05-17T03:12:06.282920Z"
    },
    "tags": []
   },
   "outputs": [
    {
     "data": {
      "text/plain": [
       "4"
      ]
     },
     "execution_count": 75,
     "metadata": {},
     "output_type": "execute_result"
    }
   ],
   "source": [
    "def mul(x, y=2):\n",
    "    \"This function multiplies its argument by two.\"\n",
    "    return x * y\n",
    "mul(2)"
   ]
  },
  {
   "cell_type": "markdown",
   "metadata": {
    "slideshow": {
     "slide_type": "slide"
    }
   },
   "source": [
    "## 函数的可变参数\n",
    "\n",
    "- 可变参数可以使得传入函数的参数个数不限，可以是0个，1个，任意个。\n",
    "\n",
    "- 可变参数的形式有 \\*parameter 和 \\*\\* parameter 两种。\n",
    "\n",
    "    - \\*parameter可以接收任意多个参数，并将这些参数放在一个元组中。参数传递时，按照位置传递。\n",
    "\n",
    "    - \\*\\* parameter 接收任意多个参数并将参数放在一个字典中。在参数传递时，按照参数名传递。"
   ]
  },
  {
   "cell_type": "markdown",
   "metadata": {
    "slideshow": {
     "slide_type": "slide"
    }
   },
   "source": [
    "## 例子（一）"
   ]
  },
  {
   "cell_type": "code",
   "execution_count": 76,
   "metadata": {
    "execution": {
     "iopub.execute_input": "2024-05-17T03:12:17.704403Z",
     "iopub.status.busy": "2024-05-17T03:12:17.703835Z",
     "iopub.status.idle": "2024-05-17T03:12:17.709543Z",
     "shell.execute_reply": "2024-05-17T03:12:17.708626Z",
     "shell.execute_reply.started": "2024-05-17T03:12:17.704372Z"
    },
    "tags": []
   },
   "outputs": [],
   "source": [
    "def tv(*name):\n",
    "    print(\"我喜欢看的电视剧有：\")\n",
    "    for item in name:\n",
    "        print(item)"
   ]
  },
  {
   "cell_type": "code",
   "execution_count": 77,
   "metadata": {
    "execution": {
     "iopub.execute_input": "2024-05-17T03:12:18.351752Z",
     "iopub.status.busy": "2024-05-17T03:12:18.351178Z",
     "iopub.status.idle": "2024-05-17T03:12:18.356108Z",
     "shell.execute_reply": "2024-05-17T03:12:18.355415Z",
     "shell.execute_reply.started": "2024-05-17T03:12:18.351717Z"
    },
    "tags": []
   },
   "outputs": [
    {
     "name": "stdout",
     "output_type": "stream",
     "text": [
      "我喜欢看的电视剧有：\n",
      "琅琊榜\n",
      "庆余年\n"
     ]
    }
   ],
   "source": [
    "tv(\"琅琊榜\", \"庆余年\")"
   ]
  },
  {
   "cell_type": "code",
   "execution_count": 78,
   "metadata": {
    "execution": {
     "iopub.execute_input": "2024-05-17T03:12:18.750479Z",
     "iopub.status.busy": "2024-05-17T03:12:18.749918Z",
     "iopub.status.idle": "2024-05-17T03:12:18.754848Z",
     "shell.execute_reply": "2024-05-17T03:12:18.754182Z",
     "shell.execute_reply.started": "2024-05-17T03:12:18.750446Z"
    },
    "tags": []
   },
   "outputs": [
    {
     "name": "stdout",
     "output_type": "stream",
     "text": [
      "我喜欢看的电视剧有：\n",
      "琅琊榜\n",
      "庆余年\n"
     ]
    }
   ],
   "source": [
    "name = [\"琅琊榜\", \"庆余年\"]\n",
    "tv(*name)"
   ]
  },
  {
   "cell_type": "markdown",
   "metadata": {
    "slideshow": {
     "slide_type": "slide"
    }
   },
   "source": [
    "## 例子（二）"
   ]
  },
  {
   "cell_type": "code",
   "execution_count": 79,
   "metadata": {
    "execution": {
     "iopub.execute_input": "2024-05-17T03:12:19.604095Z",
     "iopub.status.busy": "2024-05-17T03:12:19.603556Z",
     "iopub.status.idle": "2024-05-17T03:12:19.608617Z",
     "shell.execute_reply": "2024-05-17T03:12:19.607939Z",
     "shell.execute_reply.started": "2024-05-17T03:12:19.604062Z"
    },
    "tags": []
   },
   "outputs": [],
   "source": [
    "def tv2(**name):\n",
    "    print(\"我喜欢看的电视剧有：\")\n",
    "    for key, value in name.items():\n",
    "        print(key + \"的播放量为：\" + value)"
   ]
  },
  {
   "cell_type": "code",
   "execution_count": 80,
   "metadata": {
    "execution": {
     "iopub.execute_input": "2024-05-17T03:12:19.815003Z",
     "iopub.status.busy": "2024-05-17T03:12:19.813565Z",
     "iopub.status.idle": "2024-05-17T03:12:19.822310Z",
     "shell.execute_reply": "2024-05-17T03:12:19.820751Z",
     "shell.execute_reply.started": "2024-05-17T03:12:19.814945Z"
    },
    "tags": []
   },
   "outputs": [
    {
     "name": "stdout",
     "output_type": "stream",
     "text": [
      "我喜欢看的电视剧有：\n",
      "庆余年的播放量为：100\n",
      "琅琊榜的播放量为：100\n"
     ]
    }
   ],
   "source": [
    "tv2(庆余年=\"100\", 琅琊榜=\"100\")"
   ]
  },
  {
   "cell_type": "code",
   "execution_count": 81,
   "metadata": {
    "execution": {
     "iopub.execute_input": "2024-05-17T03:12:20.001872Z",
     "iopub.status.busy": "2024-05-17T03:12:20.001458Z",
     "iopub.status.idle": "2024-05-17T03:12:20.005977Z",
     "shell.execute_reply": "2024-05-17T03:12:20.005337Z",
     "shell.execute_reply.started": "2024-05-17T03:12:20.001846Z"
    },
    "tags": []
   },
   "outputs": [
    {
     "name": "stdout",
     "output_type": "stream",
     "text": [
      "我喜欢看的电视剧有：\n",
      "庆余年的播放量为：100\n",
      "琅琊榜的播放量为：100\n"
     ]
    }
   ],
   "source": [
    "dict0 = {\"庆余年\": \"100\", \"琅琊榜\": \"100\"}\n",
    "tv2(**dict0)"
   ]
  },
  {
   "cell_type": "markdown",
   "metadata": {
    "slideshow": {
     "slide_type": "slide"
    }
   },
   "source": [
    "## 函数的返回值\n",
    "\n",
    "- 可返回多个值"
   ]
  },
  {
   "cell_type": "code",
   "execution_count": 82,
   "metadata": {
    "execution": {
     "iopub.execute_input": "2024-05-17T03:12:20.543966Z",
     "iopub.status.busy": "2024-05-17T03:12:20.543319Z",
     "iopub.status.idle": "2024-05-17T03:12:20.554530Z",
     "shell.execute_reply": "2024-05-17T03:12:20.553297Z",
     "shell.execute_reply.started": "2024-05-17T03:12:20.543912Z"
    },
    "tags": []
   },
   "outputs": [
    {
     "data": {
      "text/plain": [
       "(2, 3)"
      ]
     },
     "execution_count": 82,
     "metadata": {},
     "output_type": "execute_result"
    }
   ],
   "source": [
    "def dou_tri(x=2):\n",
    "    \"This function multiplies its argument by two.\"\n",
    "    return x * 2, x * 3\n",
    "\n",
    "\n",
    "dou_tri(1)"
   ]
  },
  {
   "cell_type": "code",
   "execution_count": 83,
   "metadata": {
    "execution": {
     "iopub.execute_input": "2024-05-17T03:12:20.670493Z",
     "iopub.status.busy": "2024-05-17T03:12:20.669727Z",
     "iopub.status.idle": "2024-05-17T03:12:20.679333Z",
     "shell.execute_reply": "2024-05-17T03:12:20.678399Z",
     "shell.execute_reply.started": "2024-05-17T03:12:20.670444Z"
    },
    "tags": []
   },
   "outputs": [
    {
     "data": {
      "text/plain": [
       "{'double': 2, 'triple': 3}"
      ]
     },
     "execution_count": 83,
     "metadata": {},
     "output_type": "execute_result"
    }
   ],
   "source": [
    "def dou_tri(x=2):\n",
    "    \"This function multiplies its argument by two.\"\n",
    "    return {\"double\": x * 2, \"triple\": x * 3}\n",
    "\n",
    "\n",
    "dou_tri(1)"
   ]
  },
  {
   "cell_type": "markdown",
   "metadata": {
    "slideshow": {
     "slide_type": "slide"
    }
   },
   "source": [
    "## Map函数\n",
    "\n",
    "- `map`函数通过输入列表，然后对列表里的元素一一进行运算后输出一个计算后的列表。其实就是实现向量化运算。"
   ]
  },
  {
   "cell_type": "code",
   "execution_count": 84,
   "metadata": {
    "execution": {
     "iopub.execute_input": "2024-05-17T03:12:21.129334Z",
     "iopub.status.busy": "2024-05-17T03:12:21.128851Z",
     "iopub.status.idle": "2024-05-17T03:12:21.134712Z",
     "shell.execute_reply": "2024-05-17T03:12:21.134062Z",
     "shell.execute_reply.started": "2024-05-17T03:12:21.129305Z"
    },
    "tags": []
   },
   "outputs": [
    {
     "data": {
      "text/plain": [
       "['12', '43', '64', '6']"
      ]
     },
     "execution_count": 84,
     "metadata": {},
     "output_type": "execute_result"
    }
   ],
   "source": [
    "s = \"12 43 64 6\"\n",
    "L = s.split()\n",
    "L"
   ]
  },
  {
   "cell_type": "code",
   "execution_count": 85,
   "metadata": {
    "execution": {
     "iopub.execute_input": "2024-05-17T03:12:21.359155Z",
     "iopub.status.busy": "2024-05-17T03:12:21.357833Z",
     "iopub.status.idle": "2024-05-17T03:12:21.391987Z",
     "shell.execute_reply": "2024-05-17T03:12:21.391083Z",
     "shell.execute_reply.started": "2024-05-17T03:12:21.359099Z"
    },
    "tags": []
   },
   "outputs": [
    {
     "ename": "TypeError",
     "evalue": "int() argument must be a string, a bytes-like object or a number, not 'list'",
     "output_type": "error",
     "traceback": [
      "\u001b[0;31m---------------------------------------------------------------------------\u001b[0m",
      "\u001b[0;31mTypeError\u001b[0m                                 Traceback (most recent call last)",
      "Cell \u001b[0;32mIn[85], line 1\u001b[0m\n\u001b[0;32m----> 1\u001b[0m \u001b[38;5;28;43mint\u001b[39;49m\u001b[43m(\u001b[49m\u001b[43mL\u001b[49m\u001b[43m)\u001b[49m\n",
      "\u001b[0;31mTypeError\u001b[0m: int() argument must be a string, a bytes-like object or a number, not 'list'"
     ]
    }
   ],
   "source": [
    "int(L)"
   ]
  },
  {
   "cell_type": "code",
   "execution_count": 86,
   "metadata": {
    "execution": {
     "iopub.execute_input": "2024-05-17T03:12:21.606217Z",
     "iopub.status.busy": "2024-05-17T03:12:21.605575Z",
     "iopub.status.idle": "2024-05-17T03:12:21.614052Z",
     "shell.execute_reply": "2024-05-17T03:12:21.613017Z",
     "shell.execute_reply.started": "2024-05-17T03:12:21.606166Z"
    },
    "tags": []
   },
   "outputs": [
    {
     "data": {
      "text/plain": [
       "[12, 43, 64, 6]"
      ]
     },
     "execution_count": 86,
     "metadata": {},
     "output_type": "execute_result"
    }
   ],
   "source": [
    "list(map(int, L))"
   ]
  },
  {
   "cell_type": "markdown",
   "metadata": {
    "slideshow": {
     "slide_type": "slide"
    }
   },
   "source": [
    "## 匿名函数\n",
    "\n",
    "- Python中的匿名函数称为lambda表达式。\n",
    "\n",
    "- 语法为： `lambda param1, param2,...: expression`"
   ]
  },
  {
   "cell_type": "code",
   "execution_count": 87,
   "metadata": {
    "execution": {
     "iopub.execute_input": "2024-05-17T03:12:21.988897Z",
     "iopub.status.busy": "2024-05-17T03:12:21.988473Z",
     "iopub.status.idle": "2024-05-17T03:12:21.994512Z",
     "shell.execute_reply": "2024-05-17T03:12:21.993720Z",
     "shell.execute_reply.started": "2024-05-17T03:12:21.988871Z"
    },
    "tags": []
   },
   "outputs": [
    {
     "data": {
      "text/plain": [
       "[8, 15, 35]"
      ]
     },
     "execution_count": 87,
     "metadata": {},
     "output_type": "execute_result"
    }
   ],
   "source": [
    "L = [2, 3, 5]\n",
    "list(map(lambda x: 2 * x + x**2, L))"
   ]
  },
  {
   "cell_type": "markdown",
   "metadata": {
    "slideshow": {
     "slide_type": "slide"
    }
   },
   "source": [
    "## filter 函数\n",
    "\n",
    "- Python中的`filter`函数通过输入一个判断函数和列表，输出使得判断函数为`True`的子列表。\n",
    "\n",
    "- 语法为： `filter(func, list)`"
   ]
  },
  {
   "cell_type": "code",
   "execution_count": 88,
   "metadata": {
    "execution": {
     "iopub.execute_input": "2024-05-17T03:12:22.438584Z",
     "iopub.status.busy": "2024-05-17T03:12:22.437867Z",
     "iopub.status.idle": "2024-05-17T03:12:22.449329Z",
     "shell.execute_reply": "2024-05-17T03:12:22.448059Z",
     "shell.execute_reply.started": "2024-05-17T03:12:22.438527Z"
    },
    "tags": []
   },
   "outputs": [
    {
     "data": {
      "text/plain": [
       "[1, 5, 9]"
      ]
     },
     "execution_count": 88,
     "metadata": {},
     "output_type": "execute_result"
    }
   ],
   "source": [
    "def is_odd(x):\n",
    "    return x % 2 == 1\n",
    "\n",
    "\n",
    "L = [1, 4, 5, 9, 10]\n",
    "list(filter(is_odd, L))"
   ]
  },
  {
   "cell_type": "markdown",
   "metadata": {
    "slideshow": {
     "slide_type": "slide"
    }
   },
   "source": [
    "# 模块"
   ]
  },
  {
   "cell_type": "markdown",
   "metadata": {
    "slideshow": {
     "slide_type": "slide"
    }
   },
   "source": [
    "## 模块 \n",
    "\n",
    "- 当一个函数比较简单时，写一个文件即可。\n",
    "\n",
    "- 但如果函数越来越复杂，同时涉及到多个函数，为了便于管理与维护，需要分成不同的文件存放，这样子按照不同类别存放文件就形成了不同的模块。\n",
    "\n",
    "- Python的模块实际就是包含函数和其他语句的Python脚本文件，扩展名为.py。\n",
    "\n",
    "- Python的标准库中包含了成千上万的模块，常用的基本模块有：\n",
    "    \n",
    "    - math\n",
    "    - random\n",
    "    - os\n",
    "    - sys"
   ]
  },
  {
   "cell_type": "markdown",
   "metadata": {
    "slideshow": {
     "slide_type": "slide"
    }
   },
   "source": [
    "## 模块(续)\n",
    "\n",
    "- Python中重要的模块有：\n",
    "    \n",
    "    - numpy\n",
    "    \n",
    "    - pandas\n",
    "    \n",
    "    - matplotlib\n",
    "    \n",
    "    - statsmodels\n",
    "    \n",
    "    - scikit-learn"
   ]
  },
  {
   "cell_type": "markdown",
   "metadata": {
    "slideshow": {
     "slide_type": "slide"
    }
   },
   "source": [
    "## 例子"
   ]
  },
  {
   "cell_type": "code",
   "execution_count": 89,
   "metadata": {
    "execution": {
     "iopub.execute_input": "2024-05-17T03:12:23.493668Z",
     "iopub.status.busy": "2024-05-17T03:12:23.493117Z",
     "iopub.status.idle": "2024-05-17T03:12:23.500564Z",
     "shell.execute_reply": "2024-05-17T03:12:23.499850Z",
     "shell.execute_reply.started": "2024-05-17T03:12:23.493637Z"
    },
    "tags": []
   },
   "outputs": [],
   "source": [
    "import numpy as np\n",
    "\n",
    "my_arr = np.arange(1000000)\n",
    "my_list = range(1000000)"
   ]
  },
  {
   "cell_type": "code",
   "execution_count": 90,
   "metadata": {
    "execution": {
     "iopub.execute_input": "2024-05-17T03:12:23.727980Z",
     "iopub.status.busy": "2024-05-17T03:12:23.727314Z",
     "iopub.status.idle": "2024-05-17T03:12:23.740018Z",
     "shell.execute_reply": "2024-05-17T03:12:23.738537Z",
     "shell.execute_reply.started": "2024-05-17T03:12:23.727941Z"
    },
    "tags": []
   },
   "outputs": [
    {
     "name": "stdout",
     "output_type": "stream",
     "text": [
      "CPU times: user 5.23 ms, sys: 1.84 ms, total: 7.07 ms\n",
      "Wall time: 4.58 ms\n"
     ]
    }
   ],
   "source": [
    "%time a = my_arr * 2"
   ]
  },
  {
   "cell_type": "code",
   "execution_count": 91,
   "metadata": {
    "execution": {
     "iopub.execute_input": "2024-05-17T03:12:24.026381Z",
     "iopub.status.busy": "2024-05-17T03:12:24.025063Z",
     "iopub.status.idle": "2024-05-17T03:12:24.057570Z",
     "shell.execute_reply": "2024-05-17T03:12:24.056208Z",
     "shell.execute_reply.started": "2024-05-17T03:12:24.026324Z"
    },
    "tags": []
   },
   "outputs": [
    {
     "ename": "TypeError",
     "evalue": "unsupported operand type(s) for *: 'range' and 'int'",
     "output_type": "error",
     "traceback": [
      "\u001b[0;31m---------------------------------------------------------------------------\u001b[0m",
      "\u001b[0;31mTypeError\u001b[0m                                 Traceback (most recent call last)",
      "Cell \u001b[0;32mIn[91], line 1\u001b[0m\n\u001b[0;32m----> 1\u001b[0m b \u001b[38;5;241m=\u001b[39m \u001b[43mmy_list\u001b[49m\u001b[43m \u001b[49m\u001b[38;5;241;43m*\u001b[39;49m\u001b[43m \u001b[49m\u001b[38;5;241;43m2\u001b[39;49m\n",
      "\u001b[0;31mTypeError\u001b[0m: unsupported operand type(s) for *: 'range' and 'int'"
     ]
    }
   ],
   "source": [
    "b = my_list * 2"
   ]
  },
  {
   "cell_type": "code",
   "execution_count": 92,
   "metadata": {
    "execution": {
     "iopub.execute_input": "2024-05-17T03:12:24.449877Z",
     "iopub.status.busy": "2024-05-17T03:12:24.448330Z",
     "iopub.status.idle": "2024-05-17T03:12:24.575483Z",
     "shell.execute_reply": "2024-05-17T03:12:24.574793Z",
     "shell.execute_reply.started": "2024-05-17T03:12:24.449818Z"
    },
    "tags": []
   },
   "outputs": [
    {
     "name": "stdout",
     "output_type": "stream",
     "text": [
      "CPU times: user 96.4 ms, sys: 24.2 ms, total: 121 ms\n",
      "Wall time: 120 ms\n"
     ]
    }
   ],
   "source": [
    "%time b = [x*2 for x in my_list]"
   ]
  },
  {
   "cell_type": "markdown",
   "metadata": {
    "slideshow": {
     "slide_type": "slide"
    }
   },
   "source": [
    "## 模块的导入 \n",
    "\n",
    "- Python中可以使用以下三种方式导入模块或模块中的函数：\n",
    "\n",
    "    1. import 模块名\n",
    "    \n",
    "    2. import 模块名 as 新名称\n",
    "    \n",
    "    3. from 模块名 import 函数名"
   ]
  },
  {
   "cell_type": "markdown",
   "metadata": {
    "slideshow": {
     "slide_type": "slide"
    }
   },
   "source": [
    "## 例子"
   ]
  },
  {
   "cell_type": "code",
   "execution_count": 93,
   "metadata": {
    "execution": {
     "iopub.execute_input": "2024-05-17T03:12:26.921759Z",
     "iopub.status.busy": "2024-05-17T03:12:26.921185Z",
     "iopub.status.idle": "2024-05-17T03:12:26.964941Z",
     "shell.execute_reply": "2024-05-17T03:12:26.964061Z",
     "shell.execute_reply.started": "2024-05-17T03:12:26.921724Z"
    },
    "tags": []
   },
   "outputs": [
    {
     "ename": "NameError",
     "evalue": "name 'math' is not defined",
     "output_type": "error",
     "traceback": [
      "\u001b[0;31m---------------------------------------------------------------------------\u001b[0m",
      "\u001b[0;31mNameError\u001b[0m                                 Traceback (most recent call last)",
      "Cell \u001b[0;32mIn[93], line 1\u001b[0m\n\u001b[0;32m----> 1\u001b[0m \u001b[43mmath\u001b[49m\u001b[38;5;241m.\u001b[39mcos(\u001b[38;5;241m1\u001b[39m)\n",
      "\u001b[0;31mNameError\u001b[0m: name 'math' is not defined"
     ]
    }
   ],
   "source": [
    "math.cos(1)"
   ]
  },
  {
   "cell_type": "code",
   "execution_count": 94,
   "metadata": {
    "execution": {
     "iopub.execute_input": "2024-05-17T03:12:27.241509Z",
     "iopub.status.busy": "2024-05-17T03:12:27.240965Z",
     "iopub.status.idle": "2024-05-17T03:12:27.246931Z",
     "shell.execute_reply": "2024-05-17T03:12:27.246252Z",
     "shell.execute_reply.started": "2024-05-17T03:12:27.241478Z"
    },
    "tags": []
   },
   "outputs": [
    {
     "data": {
      "text/plain": [
       "0.5403023058681398"
      ]
     },
     "execution_count": 94,
     "metadata": {},
     "output_type": "execute_result"
    }
   ],
   "source": [
    "import math\n",
    "\n",
    "math.cos(1)"
   ]
  },
  {
   "cell_type": "code",
   "execution_count": 95,
   "metadata": {
    "execution": {
     "iopub.execute_input": "2024-05-17T03:12:28.223850Z",
     "iopub.status.busy": "2024-05-17T03:12:28.223277Z",
     "iopub.status.idle": "2024-05-17T03:12:28.230790Z",
     "shell.execute_reply": "2024-05-17T03:12:28.229770Z",
     "shell.execute_reply.started": "2024-05-17T03:12:28.223819Z"
    },
    "tags": []
   },
   "outputs": [
    {
     "data": {
      "text/plain": [
       "0.5403023058681398"
      ]
     },
     "execution_count": 95,
     "metadata": {},
     "output_type": "execute_result"
    }
   ],
   "source": [
    "import math as shuxue\n",
    "\n",
    "shuxue.cos(1)"
   ]
  },
  {
   "cell_type": "code",
   "execution_count": 96,
   "metadata": {
    "execution": {
     "iopub.execute_input": "2024-05-17T03:12:28.801758Z",
     "iopub.status.busy": "2024-05-17T03:12:28.801203Z",
     "iopub.status.idle": "2024-05-17T03:12:28.825297Z",
     "shell.execute_reply": "2024-05-17T03:12:28.824469Z",
     "shell.execute_reply.started": "2024-05-17T03:12:28.801725Z"
    },
    "slideshow": {
     "slide_type": "slide"
    },
    "tags": []
   },
   "outputs": [
    {
     "ename": "NameError",
     "evalue": "name 'cos' is not defined",
     "output_type": "error",
     "traceback": [
      "\u001b[0;31m---------------------------------------------------------------------------\u001b[0m",
      "\u001b[0;31mNameError\u001b[0m                                 Traceback (most recent call last)",
      "Cell \u001b[0;32mIn[96], line 1\u001b[0m\n\u001b[0;32m----> 1\u001b[0m \u001b[43mcos\u001b[49m(\u001b[38;5;241m1\u001b[39m)\n",
      "\u001b[0;31mNameError\u001b[0m: name 'cos' is not defined"
     ]
    }
   ],
   "source": [
    "cos(1)"
   ]
  },
  {
   "cell_type": "code",
   "execution_count": 97,
   "metadata": {
    "execution": {
     "iopub.execute_input": "2024-05-17T03:12:29.541307Z",
     "iopub.status.busy": "2024-05-17T03:12:29.540327Z",
     "iopub.status.idle": "2024-05-17T03:12:29.552034Z",
     "shell.execute_reply": "2024-05-17T03:12:29.550498Z",
     "shell.execute_reply.started": "2024-05-17T03:12:29.541241Z"
    },
    "tags": []
   },
   "outputs": [
    {
     "data": {
      "text/plain": [
       "0.5403023058681398"
      ]
     },
     "execution_count": 97,
     "metadata": {},
     "output_type": "execute_result"
    }
   ],
   "source": [
    "from math import cos\n",
    "\n",
    "cos(1)"
   ]
  },
  {
   "cell_type": "markdown",
   "metadata": {
    "slideshow": {
     "slide_type": "slide"
    }
   },
   "source": [
    "# <p style=\"text-align: center\"> 谢谢 </p>"
   ]
  }
 ],
 "metadata": {
  "celltoolbar": "幻灯片",
  "kernelspec": {
   "display_name": "StatSoft",
   "language": "python",
   "name": "statsoft"
  },
  "language_info": {
   "codemirror_mode": {
    "name": "ipython",
    "version": 3
   },
   "file_extension": ".py",
   "mimetype": "text/x-python",
   "name": "python",
   "nbconvert_exporter": "python",
   "pygments_lexer": "ipython3",
   "version": "3.8.16"
  },
  "toc": {
   "base_numbering": 1,
   "nav_menu": {},
   "number_sections": true,
   "sideBar": true,
   "skip_h1_title": false,
   "title_cell": "Table of Contents",
   "title_sidebar": "Contents",
   "toc_cell": false,
   "toc_position": {},
   "toc_section_display": true,
   "toc_window_display": true
  },
  "toc-autonumbering": false
 },
 "nbformat": 4,
 "nbformat_minor": 4
}
