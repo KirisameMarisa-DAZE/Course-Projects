{
 "cells": [
  {
   "cell_type": "markdown",
   "metadata": {},
   "source": [
    "# 统计软件第五次实验"
   ]
  },
  {
   "cell_type": "markdown",
   "metadata": {},
   "source": [
    "## 函数\n",
    "\n",
    "1. 实现函数 $$\\psi(x) = \\left\\{ \\begin{array}{cl} x^2 & \\mathrm{if}~|x|\\leq 1\\\\\n",
    "   2|x|-1 &\\mathrm{if}~ |x| > 1\\end{array}\\right.$$.  画出(-5,5)区间内的图像\n",
    "\n",
    "2. 对函数$$S_{k,n} = \\sum_{i=1}^n \\frac1{i^k}.$$\n",
    "\n",
    "   令 $n=5000000, k=2,\\dots,21$，分别计算 $S_{k,n}$值并输出.比较使用并行和不使用并行的运行时间差异.\n",
    "\n",
    "3. 随机游走时间序列的产生：\n",
    "\n",
    "$$\n",
    "X_t = x_0 + t\\mu + z_t,\n",
    "$$\n",
    "其中 $x_0$ 是初值， $\\mu$ 是漂移项， $z_t$ 是一组独立同分布的样本，均来自于标准正态分布。\n",
    "\n",
    "1）定义一个函数，输入参数为 $N, x_0, \\mu$ 和方差variance，输出为一个长度为 $N$ 的随机游走时间序列。\n",
    "   \n",
    "2）设随机种子为123，生成两个长度为100的随机游走时间序列，其中 $x_0=10, \\mu=0$，方差为0.0004。\n",
    "\n",
    "3）将这两个时间序列的图像画在一张图上。"
   ]
  }
 ],
 "metadata": {
  "language_info": {
   "name": "python"
  },
  "orig_nbformat": 4
 },
 "nbformat": 4,
 "nbformat_minor": 2
}
