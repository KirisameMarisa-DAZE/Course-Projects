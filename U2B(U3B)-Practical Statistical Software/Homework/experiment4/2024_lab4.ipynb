{
 "cells": [
  {
   "cell_type": "markdown",
   "metadata": {},
   "source": [
    "# 统计软件第四次实验"
   ]
  },
  {
   "cell_type": "markdown",
   "metadata": {},
   "source": [
    "## ggplot2\n",
    "\n",
    "covid19.csv文档里面记录了某地区新冠病人的住院信息。先根据上节课的内容对数据进行预处理，即把“入院时间”异常值修正，并计算相应的疗程作为新的变量添加到数据框中。\n",
    "\n",
    "1. 根据分型和年龄绘制如下图形：\n",
    "\n",
    "![](hw3-1.png)\n",
    "\n",
    "提示：散点图是抖动散点图，可以通过geom_jitter()函数绘制。\n",
    "\n",
    "2. 根据不同的分型画出疗程的箱线图（注意疗程需要通过出院时间-入院时间+1产生），并叠加各自的均值和和一倍标准差（errorbar）在图上，如下图所示。\n",
    "\n",
    "![](hw3-2.png)\n",
    "\n",
    "3. 绘制住院时间和年龄的散点图，如下图所示：\n",
    "\n",
    "![](hw3-3.png)"
   ]
  },
  {
   "cell_type": "markdown",
   "metadata": {},
   "source": [
    "## 程序控制结构\n",
    "\n",
    "1. 用ifelse实现绝对值函数$$|x| = \\left\\{ \\begin{array}{cl} x & \\mathrm{if}~x\\geq 0, \\\\\n",
    "   -x &\\mathrm{if}~ x < 0\\end{array}\\right.$$\n",
    "\n",
    "   并应用到seq(-1,1, 0.2)这个向量上.(注意要使用向量化写法)\n",
    "\n",
    "2. 打印as.POSIXct(c(\"1981-05-31\", \"2020-02-22\"))的每个元素.用元素遍历和下标遍历分别实现一遍.\n",
    "\n",
    "3. 找出正整数中其log值不超过2的所有log值.分别用while循环和repeat循环\n",
    "\n",
    "4. 从标准正态分布中随机生成100个数，输出均值和方差.使用replicate()函数.\n"
   ]
  },
  {
   "cell_type": "markdown",
   "metadata": {},
   "source": [
    "## 函数\n",
    "\n",
    "1. 实现函数 $$\\psi(x) = \\left\\{ \\begin{array}{cl} x^2 & \\mathrm{if}~|x|\\leq 1\\\\\n",
    "   2|x|-1 &\\mathrm{if}~ |x| > 1\\end{array}\\right.$$.  画出(-5,5)区间内的图像\n",
    "\n",
    "2. 对函数$$S_{k,n} = \\sum_{i=1}^n \\frac1{i^k}.$$\n",
    "\n",
    "   令 $n=5000000, k=2,\\dots,21$，分别计算 $S_{k,n}$值并输出.比较使用并行和不使用并行的运行时间差异."
   ]
  }
 ],
 "metadata": {
  "language_info": {
   "name": "python"
  },
  "orig_nbformat": 4
 },
 "nbformat": 4,
 "nbformat_minor": 2
}
